{
 "cells": [
  {
   "cell_type": "code",
   "execution_count": 54,
   "id": "cd50a0f8",
   "metadata": {},
   "outputs": [],
   "source": [
    "import pandas as pd\n",
    "import numpy as np\n",
    "import seaborn as sns"
   ]
  },
  {
   "cell_type": "code",
   "execution_count": 55,
   "id": "69386c64",
   "metadata": {},
   "outputs": [
    {
     "data": {
      "text/html": [
       "<div>\n",
       "<style scoped>\n",
       "    .dataframe tbody tr th:only-of-type {\n",
       "        vertical-align: middle;\n",
       "    }\n",
       "\n",
       "    .dataframe tbody tr th {\n",
       "        vertical-align: top;\n",
       "    }\n",
       "\n",
       "    .dataframe thead th {\n",
       "        text-align: right;\n",
       "    }\n",
       "</style>\n",
       "<table border=\"1\" class=\"dataframe\">\n",
       "  <thead>\n",
       "    <tr style=\"text-align: right;\">\n",
       "      <th></th>\n",
       "      <th>Unnamed: 0</th>\n",
       "      <th>brand</th>\n",
       "      <th>Reg. No.</th>\n",
       "      <th>Engine</th>\n",
       "      <th>Brakes</th>\n",
       "      <th>Tyres</th>\n",
       "      <th>clutch</th>\n",
       "      <th>Body</th>\n",
       "      <th>price</th>\n",
       "    </tr>\n",
       "  </thead>\n",
       "  <tbody>\n",
       "    <tr>\n",
       "      <th>0</th>\n",
       "      <td>1</td>\n",
       "      <td>Honda</td>\n",
       "      <td>XZ-11A-0001</td>\n",
       "      <td>8.8</td>\n",
       "      <td>4.0</td>\n",
       "      <td>7.6</td>\n",
       "      <td>1.4</td>\n",
       "      <td>8.8</td>\n",
       "      <td>30545</td>\n",
       "    </tr>\n",
       "    <tr>\n",
       "      <th>1</th>\n",
       "      <td>2</td>\n",
       "      <td>Honda</td>\n",
       "      <td>XX-12B-0002</td>\n",
       "      <td>9.4</td>\n",
       "      <td>6.6</td>\n",
       "      <td>2.2</td>\n",
       "      <td>1.0</td>\n",
       "      <td>4.8</td>\n",
       "      <td>20947</td>\n",
       "    </tr>\n",
       "    <tr>\n",
       "      <th>2</th>\n",
       "      <td>3</td>\n",
       "      <td>Honda</td>\n",
       "      <td>XY-13C-0003</td>\n",
       "      <td>6.6</td>\n",
       "      <td>2.2</td>\n",
       "      <td>7.8</td>\n",
       "      <td>6.4</td>\n",
       "      <td>4.8</td>\n",
       "      <td>28467</td>\n",
       "    </tr>\n",
       "    <tr>\n",
       "      <th>3</th>\n",
       "      <td>4</td>\n",
       "      <td>Honda</td>\n",
       "      <td>XZ-14D-0004</td>\n",
       "      <td>2.8</td>\n",
       "      <td>1.4</td>\n",
       "      <td>3.8</td>\n",
       "      <td>1.0</td>\n",
       "      <td>5.0</td>\n",
       "      <td>11904</td>\n",
       "    </tr>\n",
       "    <tr>\n",
       "      <th>4</th>\n",
       "      <td>5</td>\n",
       "      <td>Honda</td>\n",
       "      <td>XX-15E-0005</td>\n",
       "      <td>5.8</td>\n",
       "      <td>4.2</td>\n",
       "      <td>3.8</td>\n",
       "      <td>5.8</td>\n",
       "      <td>6.4</td>\n",
       "      <td>28402</td>\n",
       "    </tr>\n",
       "  </tbody>\n",
       "</table>\n",
       "</div>"
      ],
      "text/plain": [
       "   Unnamed: 0  brand     Reg. No.  Engine  Brakes  Tyres  clutch  Body  price\n",
       "0           1  Honda  XZ-11A-0001     8.8     4.0    7.6     1.4   8.8  30545\n",
       "1           2  Honda  XX-12B-0002     9.4     6.6    2.2     1.0   4.8  20947\n",
       "2           3  Honda  XY-13C-0003     6.6     2.2    7.8     6.4   4.8  28467\n",
       "3           4  Honda  XZ-14D-0004     2.8     1.4    3.8     1.0   5.0  11904\n",
       "4           5  Honda  XX-15E-0005     5.8     4.2    3.8     5.8   6.4  28402"
      ]
     },
     "execution_count": 55,
     "metadata": {},
     "output_type": "execute_result"
    }
   ],
   "source": [
    "df = pd.read_csv('custom_data.csv')\n",
    "df.head()"
   ]
  },
  {
   "cell_type": "code",
   "execution_count": 56,
   "id": "e8ca7d6d",
   "metadata": {},
   "outputs": [
    {
     "data": {
      "text/plain": [
       "(32648, 9)"
      ]
     },
     "execution_count": 56,
     "metadata": {},
     "output_type": "execute_result"
    }
   ],
   "source": [
    "df.shape"
   ]
  },
  {
   "cell_type": "code",
   "execution_count": null,
   "id": "aefe34a3",
   "metadata": {},
   "outputs": [],
   "source": []
  },
  {
   "cell_type": "code",
   "execution_count": 28,
   "id": "8f406c85",
   "metadata": {},
   "outputs": [],
   "source": [
    "df.drop([\"Unnamed: 0\",\"Reg. No.\"],axis=1,inplace=True)"
   ]
  },
  {
   "cell_type": "code",
   "execution_count": 29,
   "id": "eab463eb",
   "metadata": {},
   "outputs": [
    {
     "data": {
      "text/plain": [
       "array(['Honda'], dtype=object)"
      ]
     },
     "execution_count": 29,
     "metadata": {},
     "output_type": "execute_result"
    }
   ],
   "source": [
    "df['brand'].unique()"
   ]
  },
  {
   "cell_type": "code",
   "execution_count": 30,
   "id": "92be44c3",
   "metadata": {
    "scrolled": true
   },
   "outputs": [
    {
     "data": {
      "text/html": [
       "<div>\n",
       "<style scoped>\n",
       "    .dataframe tbody tr th:only-of-type {\n",
       "        vertical-align: middle;\n",
       "    }\n",
       "\n",
       "    .dataframe tbody tr th {\n",
       "        vertical-align: top;\n",
       "    }\n",
       "\n",
       "    .dataframe thead th {\n",
       "        text-align: right;\n",
       "    }\n",
       "</style>\n",
       "<table border=\"1\" class=\"dataframe\">\n",
       "  <thead>\n",
       "    <tr style=\"text-align: right;\">\n",
       "      <th></th>\n",
       "      <th>brand</th>\n",
       "      <th>Engine</th>\n",
       "      <th>Brakes</th>\n",
       "      <th>Tyres</th>\n",
       "      <th>clutch</th>\n",
       "      <th>Body</th>\n",
       "      <th>price</th>\n",
       "    </tr>\n",
       "  </thead>\n",
       "  <tbody>\n",
       "    <tr>\n",
       "      <th>0</th>\n",
       "      <td>Honda</td>\n",
       "      <td>8.8</td>\n",
       "      <td>4.0</td>\n",
       "      <td>7.6</td>\n",
       "      <td>1.4</td>\n",
       "      <td>8.8</td>\n",
       "      <td>30545</td>\n",
       "    </tr>\n",
       "    <tr>\n",
       "      <th>1</th>\n",
       "      <td>Honda</td>\n",
       "      <td>9.4</td>\n",
       "      <td>6.6</td>\n",
       "      <td>2.2</td>\n",
       "      <td>1.0</td>\n",
       "      <td>4.8</td>\n",
       "      <td>20947</td>\n",
       "    </tr>\n",
       "    <tr>\n",
       "      <th>2</th>\n",
       "      <td>Honda</td>\n",
       "      <td>6.6</td>\n",
       "      <td>2.2</td>\n",
       "      <td>7.8</td>\n",
       "      <td>6.4</td>\n",
       "      <td>4.8</td>\n",
       "      <td>28467</td>\n",
       "    </tr>\n",
       "    <tr>\n",
       "      <th>3</th>\n",
       "      <td>Honda</td>\n",
       "      <td>2.8</td>\n",
       "      <td>1.4</td>\n",
       "      <td>3.8</td>\n",
       "      <td>1.0</td>\n",
       "      <td>5.0</td>\n",
       "      <td>11904</td>\n",
       "    </tr>\n",
       "    <tr>\n",
       "      <th>4</th>\n",
       "      <td>Honda</td>\n",
       "      <td>5.8</td>\n",
       "      <td>4.2</td>\n",
       "      <td>3.8</td>\n",
       "      <td>5.8</td>\n",
       "      <td>6.4</td>\n",
       "      <td>28402</td>\n",
       "    </tr>\n",
       "  </tbody>\n",
       "</table>\n",
       "</div>"
      ],
      "text/plain": [
       "   brand  Engine  Brakes  Tyres  clutch  Body  price\n",
       "0  Honda     8.8     4.0    7.6     1.4   8.8  30545\n",
       "1  Honda     9.4     6.6    2.2     1.0   4.8  20947\n",
       "2  Honda     6.6     2.2    7.8     6.4   4.8  28467\n",
       "3  Honda     2.8     1.4    3.8     1.0   5.0  11904\n",
       "4  Honda     5.8     4.2    3.8     5.8   6.4  28402"
      ]
     },
     "execution_count": 30,
     "metadata": {},
     "output_type": "execute_result"
    }
   ],
   "source": [
    "df.head()"
   ]
  },
  {
   "cell_type": "code",
   "execution_count": 31,
   "id": "1dc1b4dc",
   "metadata": {},
   "outputs": [
    {
     "data": {
      "text/plain": [
       "brand     0\n",
       "Engine    0\n",
       "Brakes    0\n",
       "Tyres     0\n",
       "clutch    0\n",
       "Body      0\n",
       "price     0\n",
       "dtype: int64"
      ]
     },
     "execution_count": 31,
     "metadata": {},
     "output_type": "execute_result"
    }
   ],
   "source": [
    "df.isnull().sum()"
   ]
  },
  {
   "cell_type": "code",
   "execution_count": 32,
   "id": "79a2192a",
   "metadata": {},
   "outputs": [
    {
     "data": {
      "text/plain": [
       "<AxesSubplot:>"
      ]
     },
     "execution_count": 32,
     "metadata": {},
     "output_type": "execute_result"
    },
    {
     "data": {
      "image/png": "[encoded data removed]",
      "text/plain": [
       "<Figure size 432x288 with 1 Axes>"
      ]
     },
     "metadata": {
      "needs_background": "light"
     },
     "output_type": "display_data"
    }
   ],
   "source": [
    "\n",
    "sns.heatmap(df.isnull(), yticklabels = False, cbar = False, cmap=\"Blues\")"
   ]
  },
  {
   "cell_type": "code",
   "execution_count": 33,
   "id": "b462f5c5",
   "metadata": {},
   "outputs": [],
   "source": [
    "# Perform One-Hot Encoding for \"Make\", \"Model\", \"Type\", \"Origin\", and \"DriveTrain\"\n",
    "df = pd.get_dummies(df, columns=[\"brand\"])"
   ]
  },
  {
   "cell_type": "code",
   "execution_count": 34,
   "id": "6c8f1431",
   "metadata": {},
   "outputs": [
    {
     "data": {
      "text/html": [
       "<div>\n",
       "<style scoped>\n",
       "    .dataframe tbody tr th:only-of-type {\n",
       "        vertical-align: middle;\n",
       "    }\n",
       "\n",
       "    .dataframe tbody tr th {\n",
       "        vertical-align: top;\n",
       "    }\n",
       "\n",
       "    .dataframe thead th {\n",
       "        text-align: right;\n",
       "    }\n",
       "</style>\n",
       "<table border=\"1\" class=\"dataframe\">\n",
       "  <thead>\n",
       "    <tr style=\"text-align: right;\">\n",
       "      <th></th>\n",
       "      <th>Engine</th>\n",
       "      <th>Brakes</th>\n",
       "      <th>Tyres</th>\n",
       "      <th>clutch</th>\n",
       "      <th>Body</th>\n",
       "      <th>price</th>\n",
       "      <th>brand_Honda</th>\n",
       "    </tr>\n",
       "  </thead>\n",
       "  <tbody>\n",
       "    <tr>\n",
       "      <th>0</th>\n",
       "      <td>8.8</td>\n",
       "      <td>4.0</td>\n",
       "      <td>7.6</td>\n",
       "      <td>1.4</td>\n",
       "      <td>8.8</td>\n",
       "      <td>30545</td>\n",
       "      <td>1</td>\n",
       "    </tr>\n",
       "    <tr>\n",
       "      <th>1</th>\n",
       "      <td>9.4</td>\n",
       "      <td>6.6</td>\n",
       "      <td>2.2</td>\n",
       "      <td>1.0</td>\n",
       "      <td>4.8</td>\n",
       "      <td>20947</td>\n",
       "      <td>1</td>\n",
       "    </tr>\n",
       "    <tr>\n",
       "      <th>2</th>\n",
       "      <td>6.6</td>\n",
       "      <td>2.2</td>\n",
       "      <td>7.8</td>\n",
       "      <td>6.4</td>\n",
       "      <td>4.8</td>\n",
       "      <td>28467</td>\n",
       "      <td>1</td>\n",
       "    </tr>\n",
       "    <tr>\n",
       "      <th>3</th>\n",
       "      <td>2.8</td>\n",
       "      <td>1.4</td>\n",
       "      <td>3.8</td>\n",
       "      <td>1.0</td>\n",
       "      <td>5.0</td>\n",
       "      <td>11904</td>\n",
       "      <td>1</td>\n",
       "    </tr>\n",
       "    <tr>\n",
       "      <th>4</th>\n",
       "      <td>5.8</td>\n",
       "      <td>4.2</td>\n",
       "      <td>3.8</td>\n",
       "      <td>5.8</td>\n",
       "      <td>6.4</td>\n",
       "      <td>28402</td>\n",
       "      <td>1</td>\n",
       "    </tr>\n",
       "  </tbody>\n",
       "</table>\n",
       "</div>"
      ],
      "text/plain": [
       "   Engine  Brakes  Tyres  clutch  Body  price  brand_Honda\n",
       "0     8.8     4.0    7.6     1.4   8.8  30545            1\n",
       "1     9.4     6.6    2.2     1.0   4.8  20947            1\n",
       "2     6.6     2.2    7.8     6.4   4.8  28467            1\n",
       "3     2.8     1.4    3.8     1.0   5.0  11904            1\n",
       "4     5.8     4.2    3.8     5.8   6.4  28402            1"
      ]
     },
     "execution_count": 34,
     "metadata": {},
     "output_type": "execute_result"
    }
   ],
   "source": [
    "df.head()"
   ]
  },
  {
   "cell_type": "code",
   "execution_count": 44,
   "id": "6d6993ed",
   "metadata": {},
   "outputs": [
    {
     "data": {
      "text/plain": [
       "(32648, 7)"
      ]
     },
     "execution_count": 44,
     "metadata": {},
     "output_type": "execute_result"
    }
   ],
   "source": [
    "df.shape"
   ]
  },
  {
   "cell_type": "code",
   "execution_count": 36,
   "id": "5d8d2854",
   "metadata": {},
   "outputs": [],
   "source": [
    "# Feeding input features to X and output (MSRP) to y\n",
    "X = df.drop(\"price\", axis = 1)\n",
    "y = df[\"price\"]"
   ]
  },
  {
   "cell_type": "code",
   "execution_count": 37,
   "id": "370972c0",
   "metadata": {},
   "outputs": [],
   "source": [
    "# Convert the datatype to float32 (to run Linear Learner successfully)\n",
    "X = np.array(X).astype('float32')\n",
    "y = np.array(y).astype('float32')\n",
    "\n",
    "from sklearn.model_selection import train_test_split\n",
    "X_train, X_test, y_train, y_test= train_test_split(X, y, test_size = 0.2)"
   ]
  },
  {
   "cell_type": "code",
   "execution_count": 38,
   "id": "5d7fc4b3",
   "metadata": {},
   "outputs": [
    {
     "name": "stdout",
     "output_type": "stream",
     "text": [
      "arn:aws:iam::920644990528:role/mlops\n"
     ]
    }
   ],
   "source": [
    "# Boto3 is the Amazon Web Services (AWS) Software Development Kit (SDK) for Python\n",
    "# Boto3 allows Python developer to write software that makes use of services like Amazon S3 and Amazon EC2\n",
    "\n",
    "import sagemaker\n",
    "import boto3\n",
    "\n",
    "# Let's create a Sagemaker session\n",
    "sagemaker_session = sagemaker.Session()\n",
    "\n",
    "# Let's define the S3 bucket and prefix that we want to use in this session\n",
    "# bucket = 'aws-ml-10days' # bucket named 'aws-ml-10days' was created beforehand\n",
    "\n",
    "bucket = sagemaker_session.default_bucket() \n",
    "prefix = 'linear_learner' # prefix is the subfolder within the bucket.\n",
    "\n",
    "# Let's get the execution role for the notebook instance. \n",
    "# This is the IAM role that you created when you created your notebook instance. You pass the role to the training job.\n",
    "# Note that AWS Identity and Access Management (IAM) role that Amazon SageMaker can assume to perform tasks on your behalf (for example, reading training results, called model artifacts, from the S3 bucket and writing training results to Amazon S3). \n",
    "role = sagemaker.get_execution_role()\n",
    "print(role)"
   ]
  },
  {
   "cell_type": "code",
   "execution_count": 39,
   "id": "610fd3bc",
   "metadata": {},
   "outputs": [
    {
     "data": {
      "text/plain": [
       "0"
      ]
     },
     "execution_count": 39,
     "metadata": {},
     "output_type": "execute_result"
    }
   ],
   "source": [
    "import io # The io module allows for dealing with various types of I/O (text I/O, binary I/O and raw I/O). \n",
    "import numpy as np\n",
    "import sagemaker.amazon.common as smac # sagemaker common libary\n",
    "\n",
    "# Code below converts the data in numpy array format to RecordIO format\n",
    "# This is the format required by Sagemaker Linear Learner \n",
    "\n",
    "buf = io.BytesIO() # create an in-memory byte array (buf is a buffer I will be writing to)\n",
    "smac.write_numpy_to_dense_tensor(buf, X_train, y_train)\n",
    "buf.seek(0) \n",
    "# When you write to in-memory byte arrays, it increments 1 every time you write to it\n",
    "# Let's reset that back to zero \n"
   ]
  },
  {
   "cell_type": "code",
   "execution_count": 40,
   "id": "a83cfe36",
   "metadata": {},
   "outputs": [
    {
     "name": "stdout",
     "output_type": "stream",
     "text": [
      "uploaded training data location: s3://sagemaker-us-east-1-920644990528/linear_learner/train/linear-train-data\n"
     ]
    }
   ],
   "source": [
    "import os\n",
    "\n",
    "# Code to upload RecordIO data to S3\n",
    " \n",
    "# Key refers to the name of the file    \n",
    "key = 'linear-train-data'\n",
    "\n",
    "# The following code uploads the data in record-io format to S3 bucket to be accessed later for training\n",
    "boto3.resource('s3').Bucket(bucket).Object(os.path.join(prefix, 'train', key)).upload_fileobj(buf)\n",
    "\n",
    "# Let's print out the training data location in s3\n",
    "s3_train_data = 's3://{}/{}/train/{}'.format(bucket, prefix, key)\n",
    "print('uploaded training data location: {}'.format(s3_train_data))"
   ]
  },
  {
   "cell_type": "code",
   "execution_count": 41,
   "id": "8ed8b2b6",
   "metadata": {},
   "outputs": [
    {
     "name": "stdout",
     "output_type": "stream",
     "text": [
      "Training artifacts will be uploaded to: s3://sagemaker-us-east-1-920644990528/linear_learner/output\n"
     ]
    }
   ],
   "source": [
    "# create an output placeholder in S3 bucket to store the linear learner output\n",
    "\n",
    "output_location = 's3://{}/{}/output'.format(bucket, prefix)\n",
    "print('Training artifacts will be uploaded to: {}'.format(output_location))"
   ]
  },
  {
   "cell_type": "code",
   "execution_count": 42,
   "id": "17c64668",
   "metadata": {},
   "outputs": [],
   "source": [
    "# Note that this code leverages the new SageMaker SDK 2.0\n",
    "# Check this for the list of changes from AWS SageMaker SDK 1.0 to 2.0: https://sagemaker.readthedocs.io/en/stable/v2.html\n",
    "\n",
    "# This code is used to get the training container of sagemaker built-in algorithms\n",
    "# all we have to do is to specify the name of the algorithm that we want to use\n",
    "\n",
    "# Let's obtain a reference to the linearLearner container image\n",
    "# Note that all regression models are named estimators\n",
    "# You don't have to specify (hardcode) the region, get_image_uri will get the current region name using boto3.Session\n",
    "container = sagemaker.image_uris.retrieve(\"linear-learner\", boto3.Session().region_name)\n",
    "\n",
    "\n",
    "# This is using the old AWS SageMAker SDK 1.0 (You need to use get_image_uri and note that attribute order is different as well)\n",
    "# from sagemaker.amazon.amazon_estimator import get_image_uri\n",
    "# container = get_image_uri(boto3.Session().region_name, 'linear-learner')"
   ]
  },
  {
   "cell_type": "code",
   "execution_count": 45,
   "id": "256c6748",
   "metadata": {},
   "outputs": [
    {
     "name": "stdout",
     "output_type": "stream",
     "text": [
      "2022-12-09 08:14:40 Starting - Starting the training job...ProfilerReport-1670573679: InProgress\n",
      "...\n",
      "2022-12-09 08:15:38 Starting - Preparing the instances for training...............\n",
      "2022-12-09 08:18:09 Downloading - Downloading input data.........\n",
      "2022-12-09 08:19:38 Training - Training image download completed. Training in progress.\u001b[34mDocker entrypoint called with argument(s): train\u001b[0m\n",
      "\u001b[34mRunning default environment configuration script\u001b[0m\n",
      "\u001b[34m[12/09/2022 08:19:26 INFO 140314378520384] Reading default configuration from /opt/amazon/lib/python3.7/site-packages/algorithm/resources/default-input.json: {'mini_batch_size': '1000', 'epochs': '15', 'feature_dim': 'auto', 'use_bias': 'true', 'binary_classifier_model_selection_criteria': 'accuracy', 'f_beta': '1.0', 'target_recall': '0.8', 'target_precision': '0.8', 'num_models': 'auto', 'num_calibration_samples': '10000000', 'init_method': 'uniform', 'init_scale': '0.07', 'init_sigma': '0.01', 'init_bias': '0.0', 'optimizer': 'auto', 'loss': 'auto', 'margin': '1.0', 'quantile': '0.5', 'loss_insensitivity': '0.01', 'huber_delta': '1.0', 'num_classes': '1', 'accuracy_top_k': '3', 'wd': 'auto', 'l1': 'auto', 'momentum': 'auto', 'learning_rate': 'auto', 'beta_1': 'auto', 'beta_2': 'auto', 'bias_lr_mult': 'auto', 'bias_wd_mult': 'auto', 'use_lr_scheduler': 'true', 'lr_scheduler_step': 'auto', 'lr_scheduler_factor': 'auto', 'lr_scheduler_minimum_lr': 'auto', 'positive_example_weight_mult': '1.0', 'balance_multiclass_weights': 'false', 'normalize_data': 'true', 'normalize_label': 'auto', 'unbias_data': 'auto', 'unbias_label': 'auto', 'num_point_for_scaler': '10000', '_kvstore': 'auto', '_num_gpus': 'auto', '_num_kv_servers': 'auto', '_log_level': 'info', '_tuning_objective_metric': '', 'early_stopping_patience': '3', 'early_stopping_tolerance': '0.001', '_enable_profiler': 'false'}\u001b[0m\n",
      "\u001b[34m[12/09/2022 08:19:26 INFO 140314378520384] Merging with provided configuration from /opt/ml/input/config/hyperparameters.json: {'epochs': '10', 'feature_dim': '6', 'loss': 'absolute_loss', 'mini_batch_size': '10', 'num_models': '32', 'predictor_type': 'regressor'}\u001b[0m\n",
      "\u001b[34m[12/09/2022 08:19:27 INFO 140314378520384] Final configuration: {'mini_batch_size': '10', 'epochs': '10', 'feature_dim': '6', 'use_bias': 'true', 'binary_classifier_model_selection_criteria': 'accuracy', 'f_beta': '1.0', 'target_recall': '0.8', 'target_precision': '0.8', 'num_models': '32', 'num_calibration_samples': '10000000', 'init_method': 'uniform', 'init_scale': '0.07', 'init_sigma': '0.01', 'init_bias': '0.0', 'optimizer': 'auto', 'loss': 'absolute_loss', 'margin': '1.0', 'quantile': '0.5', 'loss_insensitivity': '0.01', 'huber_delta': '1.0', 'num_classes': '1', 'accuracy_top_k': '3', 'wd': 'auto', 'l1': 'auto', 'momentum': 'auto', 'learning_rate': 'auto', 'beta_1': 'auto', 'beta_2': 'auto', 'bias_lr_mult': 'auto', 'bias_wd_mult': 'auto', 'use_lr_scheduler': 'true', 'lr_scheduler_step': 'auto', 'lr_scheduler_factor': 'auto', 'lr_scheduler_minimum_lr': 'auto', 'positive_example_weight_mult': '1.0', 'balance_multiclass_weights': 'false', 'normalize_data': 'true', 'normalize_label': 'auto', 'unbias_data': 'auto', 'unbias_label': 'auto', 'num_point_for_scaler': '10000', '_kvstore': 'auto', '_num_gpus': 'auto', '_num_kv_servers': 'auto', '_log_level': 'info', '_tuning_objective_metric': '', 'early_stopping_patience': '3', 'early_stopping_tolerance': '0.001', '_enable_profiler': 'false', 'predictor_type': 'regressor'}\u001b[0m\n",
      "\u001b[34m[12/09/2022 08:19:30 WARNING 140314378520384] Loggers have already been setup.\u001b[0m\n",
      "\u001b[34m[12/09/2022 08:19:30 INFO 140314378520384] Final configuration: {'mini_batch_size': '10', 'epochs': '10', 'feature_dim': '6', 'use_bias': 'true', 'binary_classifier_model_selection_criteria': 'accuracy', 'f_beta': '1.0', 'target_recall': '0.8', 'target_precision': '0.8', 'num_models': '32', 'num_calibration_samples': '10000000', 'init_method': 'uniform', 'init_scale': '0.07', 'init_sigma': '0.01', 'init_bias': '0.0', 'optimizer': 'auto', 'loss': 'absolute_loss', 'margin': '1.0', 'quantile': '0.5', 'loss_insensitivity': '0.01', 'huber_delta': '1.0', 'num_classes': '1', 'accuracy_top_k': '3', 'wd': 'auto', 'l1': 'auto', 'momentum': 'auto', 'learning_rate': 'auto', 'beta_1': 'auto', 'beta_2': 'auto', 'bias_lr_mult': 'auto', 'bias_wd_mult': 'auto', 'use_lr_scheduler': 'true', 'lr_scheduler_step': 'auto', 'lr_scheduler_factor': 'auto', 'lr_scheduler_minimum_lr': 'auto', 'positive_example_weight_mult': '1.0', 'balance_multiclass_weights': 'false', 'normalize_data': 'true', 'normalize_label': 'auto', 'unbias_data': 'auto', 'unbias_label': 'auto', 'num_point_for_scaler': '10000', '_kvstore': 'auto', '_num_gpus': 'auto', '_num_kv_servers': 'auto', '_log_level': 'info', '_tuning_objective_metric': '', 'early_stopping_patience': '3', 'early_stopping_tolerance': '0.001', '_enable_profiler': 'false', 'predictor_type': 'regressor'}\u001b[0m\n",
      "\u001b[34m[12/09/2022 08:19:30 WARNING 140314378520384] Loggers have already been setup.\u001b[0m\n",
      "\u001b[34mProcess 7 is a worker.\u001b[0m\n",
      "\u001b[34m[12/09/2022 08:19:30 INFO 140314378520384] Using default worker.\u001b[0m\n",
      "\u001b[34m[12/09/2022 08:19:30 INFO 140314378520384] Checkpoint loading and saving are disabled.\u001b[0m\n",
      "\u001b[34m[2022-12-09 08:19:30.342] [tensorio] [info] epoch_stats={\"data_pipeline\": \"/opt/ml/input/data/train\", \"epoch\": 0, \"duration\": 17, \"num_examples\": 1, \"num_bytes\": 680}\u001b[0m\n",
      "\u001b[34m[12/09/2022 08:19:30 INFO 140314378520384] Create Store: local\u001b[0m\n",
      "\u001b[34m[2022-12-09 08:19:37.348] [tensorio] [info] epoch_stats={\"data_pipeline\": \"/opt/ml/input/data/train\", \"epoch\": 1, \"duration\": 7004, \"num_examples\": 1001, \"num_bytes\": 680680}\u001b[0m\n",
      "\u001b[34m[12/09/2022 08:19:37 INFO 140314378520384] Scaler algorithm parameters\n",
      " <algorithm.scaler.ScalerAlgorithmStable object at 0x7f9cf40fbc90>\u001b[0m\n",
      "\u001b[34m[12/09/2022 08:19:37 INFO 140314378520384] Scaling model computed with parameters:\n",
      " {'stdev_label': \u001b[0m\n",
      "\u001b[34m[6187.4053]\u001b[0m\n",
      "\u001b[34m<NDArray 1 @cpu(0)>, 'stdev_weight': \u001b[0m\n",
      "\u001b[34m[2.6582105 2.6544793 2.6715496 2.666008  2.6454573 1.       ]\u001b[0m\n",
      "\u001b[34m<NDArray 6 @cpu(0)>, 'mean_label': \u001b[0m\n",
      "\u001b[34m[26877.084]\u001b[0m\n",
      "\u001b[34m<NDArray 1 @cpu(0)>, 'mean_weight': \u001b[0m\n",
      "\u001b[34m[5.508058  5.5306697 5.5278764 5.5111485 5.508409  1.       ]\u001b[0m\n",
      "\u001b[34m<NDArray 6 @cpu(0)>}\u001b[0m\n",
      "\u001b[34m[12/09/2022 08:19:37 INFO 140314378520384] nvidia-smi: took 0.107 seconds to run.\u001b[0m\n",
      "\u001b[34m[12/09/2022 08:19:37 INFO 140314378520384] nvidia-smi identified 0 GPUs.\u001b[0m\n",
      "\u001b[34m[12/09/2022 08:19:37 INFO 140314378520384] Number of GPUs being used: 0\u001b[0m\n",
      "\u001b[34m#metrics {\"StartTime\": 1670573977.538634, \"EndTime\": 1670573977.5386713, \"Dimensions\": {\"Algorithm\": \"Linear Learner\", \"Host\": \"algo-1\", \"Operation\": \"training\", \"Meta\": \"init_train_data_iter\"}, \"Metrics\": {\"Total Records Seen\": {\"sum\": 10020.0, \"count\": 1, \"min\": 10020, \"max\": 10020}, \"Total Batches Seen\": {\"sum\": 1002.0, \"count\": 1, \"min\": 1002, \"max\": 1002}, \"Max Records Seen Between Resets\": {\"sum\": 10010.0, \"count\": 1, \"min\": 10010, \"max\": 10010}, \"Max Batches Seen Between Resets\": {\"sum\": 1001.0, \"count\": 1, \"min\": 1001, \"max\": 1001}, \"Reset Count\": {\"sum\": 2.0, \"count\": 1, \"min\": 2, \"max\": 2}, \"Number of Records Since Last Reset\": {\"sum\": 0.0, \"count\": 1, \"min\": 0, \"max\": 0}, \"Number of Batches Since Last Reset\": {\"sum\": 0.0, \"count\": 1, \"min\": 0, \"max\": 0}}}\u001b[0m\n",
      "\u001b[34m[2022-12-09 08:20:34.688] [tensorio] [info] epoch_stats={\"data_pipeline\": \"/opt/ml/input/data/train\", \"epoch\": 3, \"duration\": 57149, \"num_examples\": 2612, \"num_bytes\": 1776024}\u001b[0m\n",
      "\u001b[34m#metrics {\"StartTime\": 1670574034.6885576, \"EndTime\": 1670574034.6886384, \"Dimensions\": {\"Algorithm\": \"Linear Learner\", \"Host\": \"algo-1\", \"Operation\": \"training\", \"epoch\": 0, \"model\": 0}, \"Metrics\": {\"train_absolute_loss_objective\": {\"sum\": 0.28805603862310997, \"count\": 1, \"min\": 0.28805603862310997, \"max\": 0.28805603862310997}}}\u001b[0m\n",
      "\u001b[34m#metrics {\"StartTime\": 1670574034.6887414, \"EndTime\": 1670574034.6887558, \"Dimensions\": {\"Algorithm\": \"Linear Learner\", \"Host\": \"algo-1\", \"Operation\": \"training\", \"epoch\": 0, \"model\": 1}, \"Metrics\": {\"train_absolute_loss_objective\": {\"sum\": 0.29315007488556816, \"count\": 1, \"min\": 0.29315007488556816, \"max\": 0.29315007488556816}}}\u001b[0m\n",
      "\u001b[34m#metrics {\"StartTime\": 1670574034.688814, \"EndTime\": 1670574034.6888313, \"Dimensions\": {\"Algorithm\": \"Linear Learner\", \"Host\": \"algo-1\", \"Operation\": \"training\", \"epoch\": 0, \"model\": 2}, \"Metrics\": {\"train_absolute_loss_objective\": {\"sum\": 0.28975701183251884, \"count\": 1, \"min\": 0.28975701183251884, \"max\": 0.28975701183251884}}}\u001b[0m\n",
      "\u001b[34m#metrics {\"StartTime\": 1670574034.6888874, \"EndTime\": 1670574034.688902, \"Dimensions\": {\"Algorithm\": \"Linear Learner\", \"Host\": \"algo-1\", \"Operation\": \"training\", \"epoch\": 0, \"model\": 3}, \"Metrics\": {\"train_absolute_loss_objective\": {\"sum\": 0.29272386744213214, \"count\": 1, \"min\": 0.29272386744213214, \"max\": 0.29272386744213214}}}\u001b[0m\n",
      "\u001b[34m#metrics {\"StartTime\": 1670574034.6889586, \"EndTime\": 1670574034.688975, \"Dimensions\": {\"Algorithm\": \"Linear Learner\", \"Host\": \"algo-1\", \"Operation\": \"training\", \"epoch\": 0, \"model\": 4}, \"Metrics\": {\"train_absolute_loss_objective\": {\"sum\": 0.30884189052811895, \"count\": 1, \"min\": 0.30884189052811895, \"max\": 0.30884189052811895}}}\u001b[0m\n",
      "\u001b[34m#metrics {\"StartTime\": 1670574034.6890352, \"EndTime\": 1670574034.6890516, \"Dimensions\": {\"Algorithm\": \"Linear Learner\", \"Host\": \"algo-1\", \"Operation\": \"training\", \"epoch\": 0, \"model\": 5}, \"Metrics\": {\"train_absolute_loss_objective\": {\"sum\": 0.35597017634558703, \"count\": 1, \"min\": 0.35597017634558703, \"max\": 0.35597017634558703}}}\u001b[0m\n",
      "\u001b[34m#metrics {\"StartTime\": 1670574034.689107, \"EndTime\": 1670574034.6891232, \"Dimensions\": {\"Algorithm\": \"Linear Learner\", \"Host\": \"algo-1\", \"Operation\": \"training\", \"epoch\": 0, \"model\": 6}, \"Metrics\": {\"train_absolute_loss_objective\": {\"sum\": 0.30773143726306507, \"count\": 1, \"min\": 0.30773143726306507, \"max\": 0.30773143726306507}}}\u001b[0m\n",
      "\u001b[34m#metrics {\"StartTime\": 1670574034.6891766, \"EndTime\": 1670574034.6891932, \"Dimensions\": {\"Algorithm\": \"Linear Learner\", \"Host\": \"algo-1\", \"Operation\": \"training\", \"epoch\": 0, \"model\": 7}, \"Metrics\": {\"train_absolute_loss_objective\": {\"sum\": 0.35579576398257046, \"count\": 1, \"min\": 0.35579576398257046, \"max\": 0.35579576398257046}}}\u001b[0m\n",
      "\u001b[34m#metrics {\"StartTime\": 1670574034.6892445, \"EndTime\": 1670574034.6892612, \"Dimensions\": {\"Algorithm\": \"Linear Learner\", \"Host\": \"algo-1\", \"Operation\": \"training\", \"epoch\": 0, \"model\": 8}, \"Metrics\": {\"train_absolute_loss_objective\": {\"sum\": 0.29019675398639955, \"count\": 1, \"min\": 0.29019675398639955, \"max\": 0.29019675398639955}}}\u001b[0m\n",
      "\u001b[34m#metrics {\"StartTime\": 1670574034.6893148, \"EndTime\": 1670574034.6893303, \"Dimensions\": {\"Algorithm\": \"Linear Learner\", \"Host\": \"algo-1\", \"Operation\": \"training\", \"epoch\": 0, \"model\": 9}, \"Metrics\": {\"train_absolute_loss_objective\": {\"sum\": 0.2922094203237828, \"count\": 1, \"min\": 0.2922094203237828, \"max\": 0.2922094203237828}}}\u001b[0m\n",
      "\u001b[34m#metrics {\"StartTime\": 1670574034.689385, \"EndTime\": 1670574034.6894016, \"Dimensions\": {\"Algorithm\": \"Linear Learner\", \"Host\": \"algo-1\", \"Operation\": \"training\", \"epoch\": 0, \"model\": 10}, \"Metrics\": {\"train_absolute_loss_objective\": {\"sum\": 0.28832876786835027, \"count\": 1, \"min\": 0.28832876786835027, \"max\": 0.28832876786835027}}}\u001b[0m\n",
      "\u001b[34m#metrics {\"StartTime\": 1670574034.689455, \"EndTime\": 1670574034.6894734, \"Dimensions\": {\"Algorithm\": \"Linear Learner\", \"Host\": \"algo-1\", \"Operation\": \"training\", \"epoch\": 0, \"model\": 11}, \"Metrics\": {\"train_absolute_loss_objective\": {\"sum\": 0.2914722193844334, \"count\": 1, \"min\": 0.2914722193844334, \"max\": 0.2914722193844334}}}\u001b[0m\n",
      "\u001b[34m#metrics {\"StartTime\": 1670574034.6895401, \"EndTime\": 1670574034.6895573, \"Dimensions\": {\"Algorithm\": \"Linear Learner\", \"Host\": \"algo-1\", \"Operation\": \"training\", \"epoch\": 0, \"model\": 12}, \"Metrics\": {\"train_absolute_loss_objective\": {\"sum\": 0.3098404972364235, \"count\": 1, \"min\": 0.3098404972364235, \"max\": 0.3098404972364235}}}\u001b[0m\n",
      "\u001b[34m#metrics {\"StartTime\": 1670574034.689614, \"EndTime\": 1670574034.689631, \"Dimensions\": {\"Algorithm\": \"Linear Learner\", \"Host\": \"algo-1\", \"Operation\": \"training\", \"epoch\": 0, \"model\": 13}, \"Metrics\": {\"train_absolute_loss_objective\": {\"sum\": 0.3601705659102407, \"count\": 1, \"min\": 0.3601705659102407, \"max\": 0.3601705659102407}}}\u001b[0m\n",
      "\u001b[34m#metrics {\"StartTime\": 1670574034.6896946, \"EndTime\": 1670574034.6897125, \"Dimensions\": {\"Algorithm\": \"Linear Learner\", \"Host\": \"algo-1\", \"Operation\": \"training\", \"epoch\": 0, \"model\": 14}, \"Metrics\": {\"train_absolute_loss_objective\": {\"sum\": 0.3092425942786212, \"count\": 1, \"min\": 0.3092425942786212, \"max\": 0.3092425942786212}}}\u001b[0m\n",
      "\u001b[34m#metrics {\"StartTime\": 1670574034.6897676, \"EndTime\": 1670574034.689784, \"Dimensions\": {\"Algorithm\": \"Linear Learner\", \"Host\": \"algo-1\", \"Operation\": \"training\", \"epoch\": 0, \"model\": 15}, \"Metrics\": {\"train_absolute_loss_objective\": {\"sum\": 0.36262228808061503, \"count\": 1, \"min\": 0.36262228808061503, \"max\": 0.36262228808061503}}}\u001b[0m\n",
      "\u001b[34m#metrics {\"StartTime\": 1670574034.689846, \"EndTime\": 1670574034.689865, \"Dimensions\": {\"Algorithm\": \"Linear Learner\", \"Host\": \"algo-1\", \"Operation\": \"training\", \"epoch\": 0, \"model\": 16}, \"Metrics\": {\"train_absolute_loss_objective\": {\"sum\": 0.40248989822854486, \"count\": 1, \"min\": 0.40248989822854486, \"max\": 0.40248989822854486}}}\u001b[0m\n",
      "\u001b[34m#metrics {\"StartTime\": 1670574034.68992, \"EndTime\": 1670574034.6899362, \"Dimensions\": {\"Algorithm\": \"Linear Learner\", \"Host\": \"algo-1\", \"Operation\": \"training\", \"epoch\": 0, \"model\": 17}, \"Metrics\": {\"train_absolute_loss_objective\": {\"sum\": 0.40756223299000194, \"count\": 1, \"min\": 0.40756223299000194, \"max\": 0.40756223299000194}}}\u001b[0m\n",
      "\u001b[34m#metrics {\"StartTime\": 1670574034.689991, \"EndTime\": 1670574034.690007, \"Dimensions\": {\"Algorithm\": \"Linear Learner\", \"Host\": \"algo-1\", \"Operation\": \"training\", \"epoch\": 0, \"model\": 18}, \"Metrics\": {\"train_absolute_loss_objective\": {\"sum\": 0.40339574596517525, \"count\": 1, \"min\": 0.40339574596517525, \"max\": 0.40339574596517525}}}\u001b[0m\n",
      "\u001b[34m#metrics {\"StartTime\": 1670574034.6900756, \"EndTime\": 1670574034.6900947, \"Dimensions\": {\"Algorithm\": \"Linear Learner\", \"Host\": \"algo-1\", \"Operation\": \"training\", \"epoch\": 0, \"model\": 19}, \"Metrics\": {\"train_absolute_loss_objective\": {\"sum\": 0.4067588318311954, \"count\": 1, \"min\": 0.4067588318311954, \"max\": 0.4067588318311954}}}\u001b[0m\n",
      "\u001b[34m#metrics {\"StartTime\": 1670574034.6901581, \"EndTime\": 1670574034.690175, \"Dimensions\": {\"Algorithm\": \"Linear Learner\", \"Host\": \"algo-1\", \"Operation\": \"training\", \"epoch\": 0, \"model\": 20}, \"Metrics\": {\"train_absolute_loss_objective\": {\"sum\": 0.4328814384490765, \"count\": 1, \"min\": 0.4328814384490765, \"max\": 0.4328814384490765}}}\u001b[0m\n",
      "\u001b[34m#metrics {\"StartTime\": 1670574034.6902292, \"EndTime\": 1670574034.690246, \"Dimensions\": {\"Algorithm\": \"Linear Learner\", \"Host\": \"algo-1\", \"Operation\": \"training\", \"epoch\": 0, \"model\": 21}, \"Metrics\": {\"train_absolute_loss_objective\": {\"sum\": 0.4848720427264386, \"count\": 1, \"min\": 0.4848720427264386, \"max\": 0.4848720427264386}}}\u001b[0m\n",
      "\u001b[34m#metrics {\"StartTime\": 1670574034.6903095, \"EndTime\": 1670574034.690328, \"Dimensions\": {\"Algorithm\": \"Linear Learner\", \"Host\": \"algo-1\", \"Operation\": \"training\", \"epoch\": 0, \"model\": 22}, \"Metrics\": {\"train_absolute_loss_objective\": {\"sum\": 0.4306742142051264, \"count\": 1, \"min\": 0.4306742142051264, \"max\": 0.4306742142051264}}}\u001b[0m\n",
      "\u001b[34m#metrics {\"StartTime\": 1670574034.6903818, \"EndTime\": 1670574034.690398, \"Dimensions\": {\"Algorithm\": \"Linear Learner\", \"Host\": \"algo-1\", \"Operation\": \"training\", \"epoch\": 0, \"model\": 23}, \"Metrics\": {\"train_absolute_loss_objective\": {\"sum\": 0.4859435107232236, \"count\": 1, \"min\": 0.4859435107232236, \"max\": 0.4859435107232236}}}\u001b[0m\n",
      "\u001b[34m#metrics {\"StartTime\": 1670574034.6904519, \"EndTime\": 1670574034.6904702, \"Dimensions\": {\"Algorithm\": \"Linear Learner\", \"Host\": \"algo-1\", \"Operation\": \"training\", \"epoch\": 0, \"model\": 24}, \"Metrics\": {\"train_absolute_loss_objective\": {\"sum\": 0.7930998893224248, \"count\": 1, \"min\": 0.7930998893224248, \"max\": 0.7930998893224248}}}\u001b[0m\n",
      "\u001b[34m#metrics {\"StartTime\": 1670574034.6905248, \"EndTime\": 1670574034.6905415, \"Dimensions\": {\"Algorithm\": \"Linear Learner\", \"Host\": \"algo-1\", \"Operation\": \"training\", \"epoch\": 0, \"model\": 25}, \"Metrics\": {\"train_absolute_loss_objective\": {\"sum\": 0.7948181615849191, \"count\": 1, \"min\": 0.7948181615849191, \"max\": 0.7948181615849191}}}\u001b[0m\n",
      "\u001b[34m#metrics {\"StartTime\": 1670574034.6905963, \"EndTime\": 1670574034.6906135, \"Dimensions\": {\"Algorithm\": \"Linear Learner\", \"Host\": \"algo-1\", \"Operation\": \"training\", \"epoch\": 0, \"model\": 26}, \"Metrics\": {\"train_absolute_loss_objective\": {\"sum\": 0.793041465712525, \"count\": 1, \"min\": 0.793041465712525, \"max\": 0.793041465712525}}}\u001b[0m\n",
      "\u001b[34m#metrics {\"StartTime\": 1670574034.6906693, \"EndTime\": 1670574034.6906857, \"Dimensions\": {\"Algorithm\": \"Linear Learner\", \"Host\": \"algo-1\", \"Operation\": \"training\", \"epoch\": 0, \"model\": 27}, \"Metrics\": {\"train_absolute_loss_objective\": {\"sum\": 0.7948822037007607, \"count\": 1, \"min\": 0.7948822037007607, \"max\": 0.7948822037007607}}}\u001b[0m\n",
      "\u001b[34m#metrics {\"StartTime\": 1670574034.690774, \"EndTime\": 1670574034.6907926, \"Dimensions\": {\"Algorithm\": \"Linear Learner\", \"Host\": \"algo-1\", \"Operation\": \"training\", \"epoch\": 0, \"model\": 28}, \"Metrics\": {\"train_absolute_loss_objective\": {\"sum\": 0.8121125413283952, \"count\": 1, \"min\": 0.8121125413283952, \"max\": 0.8121125413283952}}}\u001b[0m\n",
      "\u001b[34m#metrics {\"StartTime\": 1670574034.69085, \"EndTime\": 1670574034.6908665, \"Dimensions\": {\"Algorithm\": \"Linear Learner\", \"Host\": \"algo-1\", \"Operation\": \"training\", \"epoch\": 0, \"model\": 29}, \"Metrics\": {\"train_absolute_loss_objective\": {\"sum\": 0.8412950654177773, \"count\": 1, \"min\": 0.8412950654177773, \"max\": 0.8412950654177773}}}\u001b[0m\n",
      "\u001b[34m#metrics {\"StartTime\": 1670574034.6909196, \"EndTime\": 1670574034.6909363, \"Dimensions\": {\"Algorithm\": \"Linear Learner\", \"Host\": \"algo-1\", \"Operation\": \"training\", \"epoch\": 0, \"model\": 30}, \"Metrics\": {\"train_absolute_loss_objective\": {\"sum\": 0.8138887405030255, \"count\": 1, \"min\": 0.8138887405030255, \"max\": 0.8138887405030255}}}\u001b[0m\n",
      "\u001b[34m#metrics {\"StartTime\": 1670574034.6909878, \"EndTime\": 1670574034.6910048, \"Dimensions\": {\"Algorithm\": \"Linear Learner\", \"Host\": \"algo-1\", \"Operation\": \"training\", \"epoch\": 0, \"model\": 31}, \"Metrics\": {\"train_absolute_loss_objective\": {\"sum\": 0.8417479999857084, \"count\": 1, \"min\": 0.8417479999857084, \"max\": 0.8417479999857084}}}\u001b[0m\n",
      "\u001b[34m[12/09/2022 08:20:34 INFO 140314378520384] #quality_metric: host=algo-1, epoch=0, train absolute_loss_objective <loss>=0.28805603862310997\u001b[0m\n",
      "\u001b[34m[12/09/2022 08:20:34 INFO 140314378520384] #early_stopping_criteria_metric: host=algo-1, epoch=0, criteria=absolute_loss_objective, value=0.28805603862310997\u001b[0m\n",
      "\u001b[34m[12/09/2022 08:20:34 INFO 140314378520384] Epoch 0: Loss improved. Updating best model\u001b[0m\n",
      "\u001b[34m[12/09/2022 08:20:34 INFO 140314378520384] Saving model for epoch: 0\u001b[0m\n",
      "\u001b[34m[12/09/2022 08:20:34 INFO 140314378520384] Saved checkpoint to \"/tmp/tmp6hvx_bs7/mx-mod-0000.params\"\u001b[0m\n",
      "\u001b[34m[12/09/2022 08:20:34 INFO 140314378520384] #progress_metric: host=algo-1, completed 10.0 % of epochs\u001b[0m\n",
      "\u001b[34m#metrics {\"StartTime\": 1670573977.5390306, \"EndTime\": 1670574034.7011008, \"Dimensions\": {\"Algorithm\": \"Linear Learner\", \"Host\": \"algo-1\", \"Operation\": \"training\", \"epoch\": 0, \"Meta\": \"training_data_iter\"}, \"Metrics\": {\"Total Records Seen\": {\"sum\": 36138.0, \"count\": 1, \"min\": 36138, \"max\": 36138}, \"Total Batches Seen\": {\"sum\": 3614.0, \"count\": 1, \"min\": 3614, \"max\": 3614}, \"Max Records Seen Between Resets\": {\"sum\": 26118.0, \"count\": 1, \"min\": 26118, \"max\": 26118}, \"Max Batches Seen Between Resets\": {\"sum\": 2612.0, \"count\": 1, \"min\": 2612, \"max\": 2612}, \"Reset Count\": {\"sum\": 3.0, \"count\": 1, \"min\": 3, \"max\": 3}, \"Number of Records Since Last Reset\": {\"sum\": 26118.0, \"count\": 1, \"min\": 26118, \"max\": 26118}, \"Number of Batches Since Last Reset\": {\"sum\": 2612.0, \"count\": 1, \"min\": 2612, \"max\": 2612}}}\u001b[0m\n",
      "\u001b[34m[12/09/2022 08:20:34 INFO 140314378520384] #throughput_metric: host=algo-1, train throughput=456.9102426777411 records/second\u001b[0m\n",
      "\u001b[34m[2022-12-09 08:21:32.697] [tensorio] [info] epoch_stats={\"data_pipeline\": \"/opt/ml/input/data/train\", \"epoch\": 5, \"duration\": 57996, \"num_examples\": 2612, \"num_bytes\": 1776024}\u001b[0m\n",
      "\u001b[34m#metrics {\"StartTime\": 1670574092.6977696, \"EndTime\": 1670574092.6978583, \"Dimensions\": {\"Algorithm\": \"Linear Learner\", \"Host\": \"algo-1\", \"Operation\": \"training\", \"epoch\": 1, \"model\": 0}, \"Metrics\": {\"train_absolute_loss_objective\": {\"sum\": 0.27787605012253025, \"count\": 1, \"min\": 0.27787605012253025, \"max\": 0.27787605012253025}}}\u001b[0m\n",
      "\u001b[34m#metrics {\"StartTime\": 1670574092.6979551, \"EndTime\": 1670574092.697971, \"Dimensions\": {\"Algorithm\": \"Linear Learner\", \"Host\": \"algo-1\", \"Operation\": \"training\", \"epoch\": 1, \"model\": 1}, \"Metrics\": {\"train_absolute_loss_objective\": {\"sum\": 0.28170351717993475, \"count\": 1, \"min\": 0.28170351717993475, \"max\": 0.28170351717993475}}}\u001b[0m\n",
      "\u001b[34m#metrics {\"StartTime\": 1670574092.698016, \"EndTime\": 1670574092.6980276, \"Dimensions\": {\"Algorithm\": \"Linear Learner\", \"Host\": \"algo-1\", \"Operation\": \"training\", \"epoch\": 1, \"model\": 2}, \"Metrics\": {\"train_absolute_loss_objective\": {\"sum\": 0.277902014389754, \"count\": 1, \"min\": 0.277902014389754, \"max\": 0.277902014389754}}}\u001b[0m\n",
      "\u001b[34m#metrics {\"StartTime\": 1670574092.6980665, \"EndTime\": 1670574092.6980774, \"Dimensions\": {\"Algorithm\": \"Linear Learner\", \"Host\": \"algo-1\", \"Operation\": \"training\", \"epoch\": 1, \"model\": 3}, \"Metrics\": {\"train_absolute_loss_objective\": {\"sum\": 0.2819117551423361, \"count\": 1, \"min\": 0.2819117551423361, \"max\": 0.2819117551423361}}}\u001b[0m\n",
      "\u001b[34m#metrics {\"StartTime\": 1670574092.6981177, \"EndTime\": 1670574092.698129, \"Dimensions\": {\"Algorithm\": \"Linear Learner\", \"Host\": \"algo-1\", \"Operation\": \"training\", \"epoch\": 1, \"model\": 4}, \"Metrics\": {\"train_absolute_loss_objective\": {\"sum\": 0.2803389100086091, \"count\": 1, \"min\": 0.2803389100086091, \"max\": 0.2803389100086091}}}\u001b[0m\n",
      "\u001b[34m#metrics {\"StartTime\": 1670574092.698182, \"EndTime\": 1670574092.6981945, \"Dimensions\": {\"Algorithm\": \"Linear Learner\", \"Host\": \"algo-1\", \"Operation\": \"training\", \"epoch\": 1, \"model\": 5}, \"Metrics\": {\"train_absolute_loss_objective\": {\"sum\": 0.33728924265587207, \"count\": 1, \"min\": 0.33728924265587207, \"max\": 0.33728924265587207}}}\u001b[0m\n",
      "\u001b[34m#metrics {\"StartTime\": 1670574092.698239, \"EndTime\": 1670574092.6982508, \"Dimensions\": {\"Algorithm\": \"Linear Learner\", \"Host\": \"algo-1\", \"Operation\": \"training\", \"epoch\": 1, \"model\": 6}, \"Metrics\": {\"train_absolute_loss_objective\": {\"sum\": 0.2803635272839114, \"count\": 1, \"min\": 0.2803635272839114, \"max\": 0.2803635272839114}}}\u001b[0m\n",
      "\u001b[34m#metrics {\"StartTime\": 1670574092.6982892, \"EndTime\": 1670574092.6982996, \"Dimensions\": {\"Algorithm\": \"Linear Learner\", \"Host\": \"algo-1\", \"Operation\": \"training\", \"epoch\": 1, \"model\": 7}, \"Metrics\": {\"train_absolute_loss_objective\": {\"sum\": 0.33728534747521477, \"count\": 1, \"min\": 0.33728534747521477, \"max\": 0.33728534747521477}}}\u001b[0m\n",
      "\u001b[34m#metrics {\"StartTime\": 1670574092.6983378, \"EndTime\": 1670574092.6983483, \"Dimensions\": {\"Algorithm\": \"Linear Learner\", \"Host\": \"algo-1\", \"Operation\": \"training\", \"epoch\": 1, \"model\": 8}, \"Metrics\": {\"train_absolute_loss_objective\": {\"sum\": 0.2778972374164752, \"count\": 1, \"min\": 0.2778972374164752, \"max\": 0.2778972374164752}}}\u001b[0m\n",
      "\u001b[34m#metrics {\"StartTime\": 1670574092.698392, \"EndTime\": 1670574092.6984024, \"Dimensions\": {\"Algorithm\": \"Linear Learner\", \"Host\": \"algo-1\", \"Operation\": \"training\", \"epoch\": 1, \"model\": 9}, \"Metrics\": {\"train_absolute_loss_objective\": {\"sum\": 0.281639095728811, \"count\": 1, \"min\": 0.281639095728811, \"max\": 0.281639095728811}}}\u001b[0m\n",
      "\u001b[34m#metrics {\"StartTime\": 1670574092.69844, \"EndTime\": 1670574092.6984508, \"Dimensions\": {\"Algorithm\": \"Linear Learner\", \"Host\": \"algo-1\", \"Operation\": \"training\", \"epoch\": 1, \"model\": 10}, \"Metrics\": {\"train_absolute_loss_objective\": {\"sum\": 0.2779220005416724, \"count\": 1, \"min\": 0.2779220005416724, \"max\": 0.2779220005416724}}}\u001b[0m\n",
      "\u001b[34m#metrics {\"StartTime\": 1670574092.6984901, \"EndTime\": 1670574092.6985016, \"Dimensions\": {\"Algorithm\": \"Linear Learner\", \"Host\": \"algo-1\", \"Operation\": \"training\", \"epoch\": 1, \"model\": 11}, \"Metrics\": {\"train_absolute_loss_objective\": {\"sum\": 0.2816582598251568, \"count\": 1, \"min\": 0.2816582598251568, \"max\": 0.2816582598251568}}}\u001b[0m\n",
      "\u001b[34m#metrics {\"StartTime\": 1670574092.6985393, \"EndTime\": 1670574092.6985497, \"Dimensions\": {\"Algorithm\": \"Linear Learner\", \"Host\": \"algo-1\", \"Operation\": \"training\", \"epoch\": 1, \"model\": 12}, \"Metrics\": {\"train_absolute_loss_objective\": {\"sum\": 0.2805097233879297, \"count\": 1, \"min\": 0.2805097233879297, \"max\": 0.2805097233879297}}}\u001b[0m\n",
      "\u001b[34m#metrics {\"StartTime\": 1670574092.698601, \"EndTime\": 1670574092.698612, \"Dimensions\": {\"Algorithm\": \"Linear Learner\", \"Host\": \"algo-1\", \"Operation\": \"training\", \"epoch\": 1, \"model\": 13}, \"Metrics\": {\"train_absolute_loss_objective\": {\"sum\": 0.33866551770692765, \"count\": 1, \"min\": 0.33866551770692765, \"max\": 0.33866551770692765}}}\u001b[0m\n",
      "\u001b[34m#metrics {\"StartTime\": 1670574092.6986508, \"EndTime\": 1670574092.6986609, \"Dimensions\": {\"Algorithm\": \"Linear Learner\", \"Host\": \"algo-1\", \"Operation\": \"training\", \"epoch\": 1, \"model\": 14}, \"Metrics\": {\"train_absolute_loss_objective\": {\"sum\": 0.280447232924125, \"count\": 1, \"min\": 0.280447232924125, \"max\": 0.280447232924125}}}\u001b[0m\n",
      "\u001b[34m#metrics {\"StartTime\": 1670574092.6986983, \"EndTime\": 1670574092.6987097, \"Dimensions\": {\"Algorithm\": \"Linear Learner\", \"Host\": \"algo-1\", \"Operation\": \"training\", \"epoch\": 1, \"model\": 15}, \"Metrics\": {\"train_absolute_loss_objective\": {\"sum\": 0.33660392146236545, \"count\": 1, \"min\": 0.33660392146236545, \"max\": 0.33660392146236545}}}\u001b[0m\n",
      "\u001b[34m#metrics {\"StartTime\": 1670574092.6987903, \"EndTime\": 1670574092.6988041, \"Dimensions\": {\"Algorithm\": \"Linear Learner\", \"Host\": \"algo-1\", \"Operation\": \"training\", \"epoch\": 1, \"model\": 16}, \"Metrics\": {\"train_absolute_loss_objective\": {\"sum\": 0.39446530524271745, \"count\": 1, \"min\": 0.39446530524271745, \"max\": 0.39446530524271745}}}\u001b[0m\n",
      "\u001b[34m#metrics {\"StartTime\": 1670574092.6988454, \"EndTime\": 1670574092.698856, \"Dimensions\": {\"Algorithm\": \"Linear Learner\", \"Host\": \"algo-1\", \"Operation\": \"training\", \"epoch\": 1, \"model\": 17}, \"Metrics\": {\"train_absolute_loss_objective\": {\"sum\": 0.3986429991506608, \"count\": 1, \"min\": 0.3986429991506608, \"max\": 0.3986429991506608}}}\u001b[0m\n",
      "\u001b[34m#metrics {\"StartTime\": 1670574092.6988978, \"EndTime\": 1670574092.6989093, \"Dimensions\": {\"Algorithm\": \"Linear Learner\", \"Host\": \"algo-1\", \"Operation\": \"training\", \"epoch\": 1, \"model\": 18}, \"Metrics\": {\"train_absolute_loss_objective\": {\"sum\": 0.39444783595456606, \"count\": 1, \"min\": 0.39444783595456606, \"max\": 0.39444783595456606}}}\u001b[0m\n",
      "\u001b[34m#metrics {\"StartTime\": 1670574092.6989477, \"EndTime\": 1670574092.698958, \"Dimensions\": {\"Algorithm\": \"Linear Learner\", \"Host\": \"algo-1\", \"Operation\": \"training\", \"epoch\": 1, \"model\": 19}, \"Metrics\": {\"train_absolute_loss_objective\": {\"sum\": 0.39840725995899845, \"count\": 1, \"min\": 0.39840725995899845, \"max\": 0.39840725995899845}}}\u001b[0m\n",
      "\u001b[34m#metrics {\"StartTime\": 1670574092.6989958, \"EndTime\": 1670574092.6990063, \"Dimensions\": {\"Algorithm\": \"Linear Learner\", \"Host\": \"algo-1\", \"Operation\": \"training\", \"epoch\": 1, \"model\": 20}, \"Metrics\": {\"train_absolute_loss_objective\": {\"sum\": 0.3968548580130961, \"count\": 1, \"min\": 0.3968548580130961, \"max\": 0.3968548580130961}}}\u001b[0m\n",
      "\u001b[34m#metrics {\"StartTime\": 1670574092.6990464, \"EndTime\": 1670574092.6990576, \"Dimensions\": {\"Algorithm\": \"Linear Learner\", \"Host\": \"algo-1\", \"Operation\": \"training\", \"epoch\": 1, \"model\": 21}, \"Metrics\": {\"train_absolute_loss_objective\": {\"sum\": 0.46319092435884274, \"count\": 1, \"min\": 0.46319092435884274, \"max\": 0.46319092435884274}}}\u001b[0m\n",
      "\u001b[34m#metrics {\"StartTime\": 1670574092.6990976, \"EndTime\": 1670574092.6991072, \"Dimensions\": {\"Algorithm\": \"Linear Learner\", \"Host\": \"algo-1\", \"Operation\": \"training\", \"epoch\": 1, \"model\": 22}, \"Metrics\": {\"train_absolute_loss_objective\": {\"sum\": 0.39679196676227246, \"count\": 1, \"min\": 0.39679196676227246, \"max\": 0.39679196676227246}}}\u001b[0m\n",
      "\u001b[34m#metrics {\"StartTime\": 1670574092.6991446, \"EndTime\": 1670574092.699155, \"Dimensions\": {\"Algorithm\": \"Linear Learner\", \"Host\": \"algo-1\", \"Operation\": \"training\", \"epoch\": 1, \"model\": 23}, \"Metrics\": {\"train_absolute_loss_objective\": {\"sum\": 0.4602321356295261, \"count\": 1, \"min\": 0.4602321356295261, \"max\": 0.4602321356295261}}}\u001b[0m\n",
      "\u001b[34m#metrics {\"StartTime\": 1670574092.699202, \"EndTime\": 1670574092.699213, \"Dimensions\": {\"Algorithm\": \"Linear Learner\", \"Host\": \"algo-1\", \"Operation\": \"training\", \"epoch\": 1, \"model\": 24}, \"Metrics\": {\"train_absolute_loss_objective\": {\"sum\": 0.7918804219745211, \"count\": 1, \"min\": 0.7918804219745211, \"max\": 0.7918804219745211}}}\u001b[0m\n",
      "\u001b[34m#metrics {\"StartTime\": 1670574092.699254, \"EndTime\": 1670574092.6992652, \"Dimensions\": {\"Algorithm\": \"Linear Learner\", \"Host\": \"algo-1\", \"Operation\": \"training\", \"epoch\": 1, \"model\": 25}, \"Metrics\": {\"train_absolute_loss_objective\": {\"sum\": 0.7939802833189685, \"count\": 1, \"min\": 0.7939802833189685, \"max\": 0.7939802833189685}}}\u001b[0m\n",
      "\u001b[34m#metrics {\"StartTime\": 1670574092.699308, \"EndTime\": 1670574092.6993184, \"Dimensions\": {\"Algorithm\": \"Linear Learner\", \"Host\": \"algo-1\", \"Operation\": \"training\", \"epoch\": 1, \"model\": 26}, \"Metrics\": {\"train_absolute_loss_objective\": {\"sum\": 0.7918904209721367, \"count\": 1, \"min\": 0.7918904209721367, \"max\": 0.7918904209721367}}}\u001b[0m\n",
      "\u001b[34m#metrics {\"StartTime\": 1670574092.699363, \"EndTime\": 1670574092.6993735, \"Dimensions\": {\"Algorithm\": \"Linear Learner\", \"Host\": \"algo-1\", \"Operation\": \"training\", \"epoch\": 1, \"model\": 27}, \"Metrics\": {\"train_absolute_loss_objective\": {\"sum\": 0.7939896281128046, \"count\": 1, \"min\": 0.7939896281128046, \"max\": 0.7939896281128046}}}\u001b[0m\n",
      "\u001b[34m#metrics {\"StartTime\": 1670574092.6994212, \"EndTime\": 1670574092.6994348, \"Dimensions\": {\"Algorithm\": \"Linear Learner\", \"Host\": \"algo-1\", \"Operation\": \"training\", \"epoch\": 1, \"model\": 28}, \"Metrics\": {\"train_absolute_loss_objective\": {\"sum\": 0.7934998651977153, \"count\": 1, \"min\": 0.7934998651977153, \"max\": 0.7934998651977153}}}\u001b[0m\n",
      "\u001b[34m#metrics {\"StartTime\": 1670574092.69949, \"EndTime\": 1670574092.6995053, \"Dimensions\": {\"Algorithm\": \"Linear Learner\", \"Host\": \"algo-1\", \"Operation\": \"training\", \"epoch\": 1, \"model\": 29}, \"Metrics\": {\"train_absolute_loss_objective\": {\"sum\": 0.8310597819051081, \"count\": 1, \"min\": 0.8310597819051081, \"max\": 0.8310597819051081}}}\u001b[0m\n",
      "\u001b[34m#metrics {\"StartTime\": 1670574092.699562, \"EndTime\": 1670574092.6995778, \"Dimensions\": {\"Algorithm\": \"Linear Learner\", \"Host\": \"algo-1\", \"Operation\": \"training\", \"epoch\": 1, \"model\": 30}, \"Metrics\": {\"train_absolute_loss_objective\": {\"sum\": 0.7934756995343194, \"count\": 1, \"min\": 0.7934756995343194, \"max\": 0.7934756995343194}}}\u001b[0m\n",
      "\u001b[34m#metrics {\"StartTime\": 1670574092.6996355, \"EndTime\": 1670574092.6996534, \"Dimensions\": {\"Algorithm\": \"Linear Learner\", \"Host\": \"algo-1\", \"Operation\": \"training\", \"epoch\": 1, \"model\": 31}, \"Metrics\": {\"train_absolute_loss_objective\": {\"sum\": 0.8321463166777086, \"count\": 1, \"min\": 0.8321463166777086, \"max\": 0.8321463166777086}}}\u001b[0m\n",
      "\u001b[34m[12/09/2022 08:21:32 INFO 140314378520384] #quality_metric: host=algo-1, epoch=1, train absolute_loss_objective <loss>=0.27787605012253025\u001b[0m\n",
      "\u001b[34m[12/09/2022 08:21:32 INFO 140314378520384] #early_stopping_criteria_metric: host=algo-1, epoch=1, criteria=absolute_loss_objective, value=0.27787605012253025\u001b[0m\n",
      "\u001b[34m[12/09/2022 08:21:32 INFO 140314378520384] Epoch 1: Loss improved. Updating best model\u001b[0m\n",
      "\u001b[34m[12/09/2022 08:21:32 INFO 140314378520384] Saving model for epoch: 1\u001b[0m\n",
      "\u001b[34m[12/09/2022 08:21:32 INFO 140314378520384] Saved checkpoint to \"/tmp/tmpdmuqd_u5/mx-mod-0000.params\"\u001b[0m\n",
      "\u001b[34m[12/09/2022 08:21:32 INFO 140314378520384] #progress_metric: host=algo-1, completed 20.0 % of epochs\u001b[0m\n",
      "\u001b[34m#metrics {\"StartTime\": 1670574034.70143, \"EndTime\": 1670574092.7096872, \"Dimensions\": {\"Algorithm\": \"Linear Learner\", \"Host\": \"algo-1\", \"Operation\": \"training\", \"epoch\": 1, \"Meta\": \"training_data_iter\"}, \"Metrics\": {\"Total Records Seen\": {\"sum\": 62256.0, \"count\": 1, \"min\": 62256, \"max\": 62256}, \"Total Batches Seen\": {\"sum\": 6226.0, \"count\": 1, \"min\": 6226, \"max\": 6226}, \"Max Records Seen Between Resets\": {\"sum\": 26118.0, \"count\": 1, \"min\": 26118, \"max\": 26118}, \"Max Batches Seen Between Resets\": {\"sum\": 2612.0, \"count\": 1, \"min\": 2612, \"max\": 2612}, \"Reset Count\": {\"sum\": 4.0, \"count\": 1, \"min\": 4, \"max\": 4}, \"Number of Records Since Last Reset\": {\"sum\": 26118.0, \"count\": 1, \"min\": 26118, \"max\": 26118}, \"Number of Batches Since Last Reset\": {\"sum\": 2612.0, \"count\": 1, \"min\": 2612, \"max\": 2612}}}\u001b[0m\n",
      "\u001b[34m[12/09/2022 08:21:32 INFO 140314378520384] #throughput_metric: host=algo-1, train throughput=450.24495214162584 records/second\u001b[0m\n",
      "\u001b[34m[2022-12-09 08:22:31.076] [tensorio] [info] epoch_stats={\"data_pipeline\": \"/opt/ml/input/data/train\", \"epoch\": 7, \"duration\": 58366, \"num_examples\": 2612, \"num_bytes\": 1776024}\u001b[0m\n",
      "\u001b[34m#metrics {\"StartTime\": 1670574151.0763688, \"EndTime\": 1670574151.0764568, \"Dimensions\": {\"Algorithm\": \"Linear Learner\", \"Host\": \"algo-1\", \"Operation\": \"training\", \"epoch\": 2, \"model\": 0}, \"Metrics\": {\"train_absolute_loss_objective\": {\"sum\": 0.27764501841485567, \"count\": 1, \"min\": 0.27764501841485567, \"max\": 0.27764501841485567}}}\u001b[0m\n",
      "\u001b[34m#metrics {\"StartTime\": 1670574151.0765486, \"EndTime\": 1670574151.0765646, \"Dimensions\": {\"Algorithm\": \"Linear Learner\", \"Host\": \"algo-1\", \"Operation\": \"training\", \"epoch\": 2, \"model\": 1}, \"Metrics\": {\"train_absolute_loss_objective\": {\"sum\": 0.28093719056902694, \"count\": 1, \"min\": 0.28093719056902694, \"max\": 0.28093719056902694}}}\u001b[0m\n",
      "\u001b[34m#metrics {\"StartTime\": 1670574151.0766087, \"EndTime\": 1670574151.0766206, \"Dimensions\": {\"Algorithm\": \"Linear Learner\", \"Host\": \"algo-1\", \"Operation\": \"training\", \"epoch\": 2, \"model\": 2}, \"Metrics\": {\"train_absolute_loss_objective\": {\"sum\": 0.27779157607320715, \"count\": 1, \"min\": 0.27779157607320715, \"max\": 0.27779157607320715}}}\u001b[0m\n",
      "\u001b[34m#metrics {\"StartTime\": 1670574151.0766659, \"EndTime\": 1670574151.0766773, \"Dimensions\": {\"Algorithm\": \"Linear Learner\", \"Host\": \"algo-1\", \"Operation\": \"training\", \"epoch\": 2, \"model\": 3}, \"Metrics\": {\"train_absolute_loss_objective\": {\"sum\": 0.2809697223823676, \"count\": 1, \"min\": 0.2809697223823676, \"max\": 0.2809697223823676}}}\u001b[0m\n",
      "\u001b[34m#metrics {\"StartTime\": 1670574151.076717, \"EndTime\": 1670574151.0767276, \"Dimensions\": {\"Algorithm\": \"Linear Learner\", \"Host\": \"algo-1\", \"Operation\": \"training\", \"epoch\": 2, \"model\": 4}, \"Metrics\": {\"train_absolute_loss_objective\": {\"sum\": 0.27797672855402034, \"count\": 1, \"min\": 0.27797672855402034, \"max\": 0.27797672855402034}}}\u001b[0m\n",
      "\u001b[34m#metrics {\"StartTime\": 1670574151.0767663, \"EndTime\": 1670574151.0767772, \"Dimensions\": {\"Algorithm\": \"Linear Learner\", \"Host\": \"algo-1\", \"Operation\": \"training\", \"epoch\": 2, \"model\": 5}, \"Metrics\": {\"train_absolute_loss_objective\": {\"sum\": 0.3251130893512596, \"count\": 1, \"min\": 0.3251130893512596, \"max\": 0.3251130893512596}}}\u001b[0m\n",
      "\u001b[34m#metrics {\"StartTime\": 1670574151.0768147, \"EndTime\": 1670574151.0768251, \"Dimensions\": {\"Algorithm\": \"Linear Learner\", \"Host\": \"algo-1\", \"Operation\": \"training\", \"epoch\": 2, \"model\": 6}, \"Metrics\": {\"train_absolute_loss_objective\": {\"sum\": 0.2779872106483091, \"count\": 1, \"min\": 0.2779872106483091, \"max\": 0.2779872106483091}}}\u001b[0m\n",
      "\u001b[34m#metrics {\"StartTime\": 1670574151.0768626, \"EndTime\": 1670574151.076873, \"Dimensions\": {\"Algorithm\": \"Linear Learner\", \"Host\": \"algo-1\", \"Operation\": \"training\", \"epoch\": 2, \"model\": 7}, \"Metrics\": {\"train_absolute_loss_objective\": {\"sum\": 0.3242393128924879, \"count\": 1, \"min\": 0.3242393128924879, \"max\": 0.3242393128924879}}}\u001b[0m\n",
      "\u001b[34m#metrics {\"StartTime\": 1670574151.0769117, \"EndTime\": 1670574151.0769224, \"Dimensions\": {\"Algorithm\": \"Linear Learner\", \"Host\": \"algo-1\", \"Operation\": \"training\", \"epoch\": 2, \"model\": 8}, \"Metrics\": {\"train_absolute_loss_objective\": {\"sum\": 0.27765760093482234, \"count\": 1, \"min\": 0.27765760093482234, \"max\": 0.27765760093482234}}}\u001b[0m\n",
      "\u001b[34m#metrics {\"StartTime\": 1670574151.076961, \"EndTime\": 1670574151.0769706, \"Dimensions\": {\"Algorithm\": \"Linear Learner\", \"Host\": \"algo-1\", \"Operation\": \"training\", \"epoch\": 2, \"model\": 9}, \"Metrics\": {\"train_absolute_loss_objective\": {\"sum\": 0.2811245490015352, \"count\": 1, \"min\": 0.2811245490015352, \"max\": 0.2811245490015352}}}\u001b[0m\n",
      "\u001b[34m#metrics {\"StartTime\": 1670574151.077011, \"EndTime\": 1670574151.0770223, \"Dimensions\": {\"Algorithm\": \"Linear Learner\", \"Host\": \"algo-1\", \"Operation\": \"training\", \"epoch\": 2, \"model\": 10}, \"Metrics\": {\"train_absolute_loss_objective\": {\"sum\": 0.27781408391935714, \"count\": 1, \"min\": 0.27781408391935714, \"max\": 0.27781408391935714}}}\u001b[0m\n",
      "\u001b[34m#metrics {\"StartTime\": 1670574151.0770614, \"EndTime\": 1670574151.0770712, \"Dimensions\": {\"Algorithm\": \"Linear Learner\", \"Host\": \"algo-1\", \"Operation\": \"training\", \"epoch\": 2, \"model\": 11}, \"Metrics\": {\"train_absolute_loss_objective\": {\"sum\": 0.2810091470265836, \"count\": 1, \"min\": 0.2810091470265836, \"max\": 0.2810091470265836}}}\u001b[0m\n",
      "\u001b[34m#metrics {\"StartTime\": 1670574151.0771093, \"EndTime\": 1670574151.0771194, \"Dimensions\": {\"Algorithm\": \"Linear Learner\", \"Host\": \"algo-1\", \"Operation\": \"training\", \"epoch\": 2, \"model\": 12}, \"Metrics\": {\"train_absolute_loss_objective\": {\"sum\": 0.27800757070009574, \"count\": 1, \"min\": 0.27800757070009574, \"max\": 0.27800757070009574}}}\u001b[0m\n",
      "\u001b[34m#metrics {\"StartTime\": 1670574151.0771573, \"EndTime\": 1670574151.0771685, \"Dimensions\": {\"Algorithm\": \"Linear Learner\", \"Host\": \"algo-1\", \"Operation\": \"training\", \"epoch\": 2, \"model\": 13}, \"Metrics\": {\"train_absolute_loss_objective\": {\"sum\": 0.3233305492879604, \"count\": 1, \"min\": 0.3233305492879604, \"max\": 0.3233305492879604}}}\u001b[0m\n",
      "\u001b[34m#metrics {\"StartTime\": 1670574151.0772088, \"EndTime\": 1670574151.0772195, \"Dimensions\": {\"Algorithm\": \"Linear Learner\", \"Host\": \"algo-1\", \"Operation\": \"training\", \"epoch\": 2, \"model\": 14}, \"Metrics\": {\"train_absolute_loss_objective\": {\"sum\": 0.27800874917820373, \"count\": 1, \"min\": 0.27800874917820373, \"max\": 0.27800874917820373}}}\u001b[0m\n",
      "\u001b[34m#metrics {\"StartTime\": 1670574151.0772579, \"EndTime\": 1670574151.0772688, \"Dimensions\": {\"Algorithm\": \"Linear Learner\", \"Host\": \"algo-1\", \"Operation\": \"training\", \"epoch\": 2, \"model\": 15}, \"Metrics\": {\"train_absolute_loss_objective\": {\"sum\": 0.32689275332037765, \"count\": 1, \"min\": 0.32689275332037765, \"max\": 0.32689275332037765}}}\u001b[0m\n",
      "\u001b[34m#metrics {\"StartTime\": 1670574151.0773063, \"EndTime\": 1670574151.0773172, \"Dimensions\": {\"Algorithm\": \"Linear Learner\", \"Host\": \"algo-1\", \"Operation\": \"training\", \"epoch\": 2, \"model\": 16}, \"Metrics\": {\"train_absolute_loss_objective\": {\"sum\": 0.3942804152277958, \"count\": 1, \"min\": 0.3942804152277958, \"max\": 0.3942804152277958}}}\u001b[0m\n",
      "\u001b[34m#metrics {\"StartTime\": 1670574151.077354, \"EndTime\": 1670574151.0773644, \"Dimensions\": {\"Algorithm\": \"Linear Learner\", \"Host\": \"algo-1\", \"Operation\": \"training\", \"epoch\": 2, \"model\": 17}, \"Metrics\": {\"train_absolute_loss_objective\": {\"sum\": 0.39749068916642954, \"count\": 1, \"min\": 0.39749068916642954, \"max\": 0.39749068916642954}}}\u001b[0m\n",
      "\u001b[34m#metrics {\"StartTime\": 1670574151.077415, \"EndTime\": 1670574151.0774271, \"Dimensions\": {\"Algorithm\": \"Linear Learner\", \"Host\": \"algo-1\", \"Operation\": \"training\", \"epoch\": 2, \"model\": 18}, \"Metrics\": {\"train_absolute_loss_objective\": {\"sum\": 0.39423386887178163, \"count\": 1, \"min\": 0.39423386887178163, \"max\": 0.39423386887178163}}}\u001b[0m\n",
      "\u001b[34m#metrics {\"StartTime\": 1670574151.0774765, \"EndTime\": 1670574151.0774868, \"Dimensions\": {\"Algorithm\": \"Linear Learner\", \"Host\": \"algo-1\", \"Operation\": \"training\", \"epoch\": 2, \"model\": 19}, \"Metrics\": {\"train_absolute_loss_objective\": {\"sum\": 0.39744648452190456, \"count\": 1, \"min\": 0.39744648452190456, \"max\": 0.39744648452190456}}}\u001b[0m\n",
      "\u001b[34m#metrics {\"StartTime\": 1670574151.0775275, \"EndTime\": 1670574151.0775385, \"Dimensions\": {\"Algorithm\": \"Linear Learner\", \"Host\": \"algo-1\", \"Operation\": \"training\", \"epoch\": 2, \"model\": 20}, \"Metrics\": {\"train_absolute_loss_objective\": {\"sum\": 0.39461764555149087, \"count\": 1, \"min\": 0.39461764555149087, \"max\": 0.39461764555149087}}}\u001b[0m\n",
      "\u001b[34m#metrics {\"StartTime\": 1670574151.0775793, \"EndTime\": 1670574151.077591, \"Dimensions\": {\"Algorithm\": \"Linear Learner\", \"Host\": \"algo-1\", \"Operation\": \"training\", \"epoch\": 2, \"model\": 21}, \"Metrics\": {\"train_absolute_loss_objective\": {\"sum\": 0.44509573840218364, \"count\": 1, \"min\": 0.44509573840218364, \"max\": 0.44509573840218364}}}\u001b[0m\n",
      "\u001b[34m#metrics {\"StartTime\": 1670574151.077638, \"EndTime\": 1670574151.0776489, \"Dimensions\": {\"Algorithm\": \"Linear Learner\", \"Host\": \"algo-1\", \"Operation\": \"training\", \"epoch\": 2, \"model\": 22}, \"Metrics\": {\"train_absolute_loss_objective\": {\"sum\": 0.3947698667514192, \"count\": 1, \"min\": 0.3947698667514192, \"max\": 0.3947698667514192}}}\u001b[0m\n",
      "\u001b[34m#metrics {\"StartTime\": 1670574151.077688, \"EndTime\": 1670574151.0776985, \"Dimensions\": {\"Algorithm\": \"Linear Learner\", \"Host\": \"algo-1\", \"Operation\": \"training\", \"epoch\": 2, \"model\": 23}, \"Metrics\": {\"train_absolute_loss_objective\": {\"sum\": 0.44687435371306883, \"count\": 1, \"min\": 0.44687435371306883, \"max\": 0.44687435371306883}}}\u001b[0m\n",
      "\u001b[34m#metrics {\"StartTime\": 1670574151.0777366, \"EndTime\": 1670574151.077747, \"Dimensions\": {\"Algorithm\": \"Linear Learner\", \"Host\": \"algo-1\", \"Operation\": \"training\", \"epoch\": 2, \"model\": 24}, \"Metrics\": {\"train_absolute_loss_objective\": {\"sum\": 0.7917106919250284, \"count\": 1, \"min\": 0.7917106919250284, \"max\": 0.7917106919250284}}}\u001b[0m\n",
      "\u001b[34m#metrics {\"StartTime\": 1670574151.0777848, \"EndTime\": 1670574151.0777955, \"Dimensions\": {\"Algorithm\": \"Linear Learner\", \"Host\": \"algo-1\", \"Operation\": \"training\", \"epoch\": 2, \"model\": 25}, \"Metrics\": {\"train_absolute_loss_objective\": {\"sum\": 0.7936450178985712, \"count\": 1, \"min\": 0.7936450178985712, \"max\": 0.7936450178985712}}}\u001b[0m\n",
      "\u001b[34m#metrics {\"StartTime\": 1670574151.077833, \"EndTime\": 1670574151.0778434, \"Dimensions\": {\"Algorithm\": \"Linear Learner\", \"Host\": \"algo-1\", \"Operation\": \"training\", \"epoch\": 2, \"model\": 26}, \"Metrics\": {\"train_absolute_loss_objective\": {\"sum\": 0.7918133376248263, \"count\": 1, \"min\": 0.7918133376248263, \"max\": 0.7918133376248263}}}\u001b[0m\n",
      "\u001b[34m#metrics {\"StartTime\": 1670574151.0778806, \"EndTime\": 1670574151.0778913, \"Dimensions\": {\"Algorithm\": \"Linear Learner\", \"Host\": \"algo-1\", \"Operation\": \"training\", \"epoch\": 2, \"model\": 27}, \"Metrics\": {\"train_absolute_loss_objective\": {\"sum\": 0.7935938323333956, \"count\": 1, \"min\": 0.7935938323333956, \"max\": 0.7935938323333956}}}\u001b[0m\n",
      "\u001b[34m#metrics {\"StartTime\": 1670574151.0779285, \"EndTime\": 1670574151.0779393, \"Dimensions\": {\"Algorithm\": \"Linear Learner\", \"Host\": \"algo-1\", \"Operation\": \"training\", \"epoch\": 2, \"model\": 28}, \"Metrics\": {\"train_absolute_loss_objective\": {\"sum\": 0.7919247687981531, \"count\": 1, \"min\": 0.7919247687981531, \"max\": 0.7919247687981531}}}\u001b[0m\n",
      "\u001b[34m#metrics {\"StartTime\": 1670574151.0779798, \"EndTime\": 1670574151.0779893, \"Dimensions\": {\"Algorithm\": \"Linear Learner\", \"Host\": \"algo-1\", \"Operation\": \"training\", \"epoch\": 2, \"model\": 29}, \"Metrics\": {\"train_absolute_loss_objective\": {\"sum\": 0.8246666121601556, \"count\": 1, \"min\": 0.8246666121601556, \"max\": 0.8246666121601556}}}\u001b[0m\n",
      "\u001b[34m#metrics {\"StartTime\": 1670574151.0780375, \"EndTime\": 1670574151.0780544, \"Dimensions\": {\"Algorithm\": \"Linear Learner\", \"Host\": \"algo-1\", \"Operation\": \"training\", \"epoch\": 2, \"model\": 30}, \"Metrics\": {\"train_absolute_loss_objective\": {\"sum\": 0.7919272425255982, \"count\": 1, \"min\": 0.7919272425255982, \"max\": 0.7919272425255982}}}\u001b[0m\n",
      "\u001b[34m#metrics {\"StartTime\": 1670574151.078106, \"EndTime\": 1670574151.078122, \"Dimensions\": {\"Algorithm\": \"Linear Learner\", \"Host\": \"algo-1\", \"Operation\": \"training\", \"epoch\": 2, \"model\": 31}, \"Metrics\": {\"train_absolute_loss_objective\": {\"sum\": 0.8254713202929049, \"count\": 1, \"min\": 0.8254713202929049, \"max\": 0.8254713202929049}}}\u001b[0m\n",
      "\u001b[34m[12/09/2022 08:22:31 INFO 140314378520384] #quality_metric: host=algo-1, epoch=2, train absolute_loss_objective <loss>=0.27764501841485567\u001b[0m\n",
      "\u001b[34m[12/09/2022 08:22:31 INFO 140314378520384] #early_stopping_criteria_metric: host=algo-1, epoch=2, criteria=absolute_loss_objective, value=0.27764501841485567\u001b[0m\n",
      "\u001b[34m[12/09/2022 08:22:31 INFO 140314378520384] Saving model for epoch: 2\u001b[0m\n",
      "\u001b[34m[12/09/2022 08:22:31 INFO 140314378520384] Saved checkpoint to \"/tmp/tmp_0uqkuwa/mx-mod-0000.params\"\u001b[0m\n",
      "\u001b[34m[12/09/2022 08:22:31 INFO 140314378520384] #progress_metric: host=algo-1, completed 30.0 % of epochs\u001b[0m\n",
      "\u001b[34m#metrics {\"StartTime\": 1670574092.710042, \"EndTime\": 1670574151.087248, \"Dimensions\": {\"Algorithm\": \"Linear Learner\", \"Host\": \"algo-1\", \"Operation\": \"training\", \"epoch\": 2, \"Meta\": \"training_data_iter\"}, \"Metrics\": {\"Total Records Seen\": {\"sum\": 88374.0, \"count\": 1, \"min\": 88374, \"max\": 88374}, \"Total Batches Seen\": {\"sum\": 8838.0, \"count\": 1, \"min\": 8838, \"max\": 8838}, \"Max Records Seen Between Resets\": {\"sum\": 26118.0, \"count\": 1, \"min\": 26118, \"max\": 26118}, \"Max Batches Seen Between Resets\": {\"sum\": 2612.0, \"count\": 1, \"min\": 2612, \"max\": 2612}, \"Reset Count\": {\"sum\": 5.0, \"count\": 1, \"min\": 5, \"max\": 5}, \"Number of Records Since Last Reset\": {\"sum\": 26118.0, \"count\": 1, \"min\": 26118, \"max\": 26118}, \"Number of Batches Since Last Reset\": {\"sum\": 2612.0, \"count\": 1, \"min\": 2612, \"max\": 2612}}}\u001b[0m\n",
      "\u001b[34m[12/09/2022 08:22:31 INFO 140314378520384] #throughput_metric: host=algo-1, train throughput=447.39941202216465 records/second\u001b[0m\n",
      "\u001b[34m[2022-12-09 08:23:29.193] [tensorio] [info] epoch_stats={\"data_pipeline\": \"/opt/ml/input/data/train\", \"epoch\": 9, \"duration\": 58106, \"num_examples\": 2612, \"num_bytes\": 1776024}\u001b[0m\n",
      "\u001b[34m#metrics {\"StartTime\": 1670574209.193905, \"EndTime\": 1670574209.1939988, \"Dimensions\": {\"Algorithm\": \"Linear Learner\", \"Host\": \"algo-1\", \"Operation\": \"training\", \"epoch\": 3, \"model\": 0}, \"Metrics\": {\"train_absolute_loss_objective\": {\"sum\": 0.2776344197684894, \"count\": 1, \"min\": 0.2776344197684894, \"max\": 0.2776344197684894}}}\u001b[0m\n",
      "\u001b[34m#metrics {\"StartTime\": 1670574209.1940951, \"EndTime\": 1670574209.1941156, \"Dimensions\": {\"Algorithm\": \"Linear Learner\", \"Host\": \"algo-1\", \"Operation\": \"training\", \"epoch\": 3, \"model\": 1}, \"Metrics\": {\"train_absolute_loss_objective\": {\"sum\": 0.28048671573480394, \"count\": 1, \"min\": 0.28048671573480394, \"max\": 0.28048671573480394}}}\u001b[0m\n",
      "\u001b[34m#metrics {\"StartTime\": 1670574209.1941698, \"EndTime\": 1670574209.1941867, \"Dimensions\": {\"Algorithm\": \"Linear Learner\", \"Host\": \"algo-1\", \"Operation\": \"training\", \"epoch\": 3, \"model\": 2}, \"Metrics\": {\"train_absolute_loss_objective\": {\"sum\": 0.277791043859202, \"count\": 1, \"min\": 0.277791043859202, \"max\": 0.277791043859202}}}\u001b[0m\n",
      "\u001b[34m#metrics {\"StartTime\": 1670574209.1942532, \"EndTime\": 1670574209.194271, \"Dimensions\": {\"Algorithm\": \"Linear Learner\", \"Host\": \"algo-1\", \"Operation\": \"training\", \"epoch\": 3, \"model\": 3}, \"Metrics\": {\"train_absolute_loss_objective\": {\"sum\": 0.2804334544715458, \"count\": 1, \"min\": 0.2804334544715458, \"max\": 0.2804334544715458}}}\u001b[0m\n",
      "\u001b[34m#metrics {\"StartTime\": 1670574209.1943243, \"EndTime\": 1670574209.1943352, \"Dimensions\": {\"Algorithm\": \"Linear Learner\", \"Host\": \"algo-1\", \"Operation\": \"training\", \"epoch\": 3, \"model\": 4}, \"Metrics\": {\"train_absolute_loss_objective\": {\"sum\": 0.2776530723515163, \"count\": 1, \"min\": 0.2776530723515163, \"max\": 0.2776530723515163}}}\u001b[0m\n",
      "\u001b[34m#metrics {\"StartTime\": 1670574209.194373, \"EndTime\": 1670574209.1943882, \"Dimensions\": {\"Algorithm\": \"Linear Learner\", \"Host\": \"algo-1\", \"Operation\": \"training\", \"epoch\": 3, \"model\": 5}, \"Metrics\": {\"train_absolute_loss_objective\": {\"sum\": 0.31296117667812173, \"count\": 1, \"min\": 0.31296117667812173, \"max\": 0.31296117667812173}}}\u001b[0m\n",
      "\u001b[34m#metrics {\"StartTime\": 1670574209.1944387, \"EndTime\": 1670574209.1944544, \"Dimensions\": {\"Algorithm\": \"Linear Learner\", \"Host\": \"algo-1\", \"Operation\": \"training\", \"epoch\": 3, \"model\": 6}, \"Metrics\": {\"train_absolute_loss_objective\": {\"sum\": 0.27779149433426, \"count\": 1, \"min\": 0.27779149433426, \"max\": 0.27779149433426}}}\u001b[0m\n",
      "\u001b[34m#metrics {\"StartTime\": 1670574209.1945012, \"EndTime\": 1670574209.1945155, \"Dimensions\": {\"Algorithm\": \"Linear Learner\", \"Host\": \"algo-1\", \"Operation\": \"training\", \"epoch\": 3, \"model\": 7}, \"Metrics\": {\"train_absolute_loss_objective\": {\"sum\": 0.31423342537943866, \"count\": 1, \"min\": 0.31423342537943866, \"max\": 0.31423342537943866}}}\u001b[0m\n",
      "\u001b[34m#metrics {\"StartTime\": 1670574209.1945608, \"EndTime\": 1670574209.1945765, \"Dimensions\": {\"Algorithm\": \"Linear Learner\", \"Host\": \"algo-1\", \"Operation\": \"training\", \"epoch\": 3, \"model\": 8}, \"Metrics\": {\"train_absolute_loss_objective\": {\"sum\": 0.277648386390033, \"count\": 1, \"min\": 0.277648386390033, \"max\": 0.277648386390033}}}\u001b[0m\n",
      "\u001b[34m#metrics {\"StartTime\": 1670574209.1946306, \"EndTime\": 1670574209.1946466, \"Dimensions\": {\"Algorithm\": \"Linear Learner\", \"Host\": \"algo-1\", \"Operation\": \"training\", \"epoch\": 3, \"model\": 9}, \"Metrics\": {\"train_absolute_loss_objective\": {\"sum\": 0.28030518946726174, \"count\": 1, \"min\": 0.28030518946726174, \"max\": 0.28030518946726174}}}\u001b[0m\n",
      "\u001b[34m#metrics {\"StartTime\": 1670574209.194701, \"EndTime\": 1670574209.1947176, \"Dimensions\": {\"Algorithm\": \"Linear Learner\", \"Host\": \"algo-1\", \"Operation\": \"training\", \"epoch\": 3, \"model\": 10}, \"Metrics\": {\"train_absolute_loss_objective\": {\"sum\": 0.277813533406201, \"count\": 1, \"min\": 0.277813533406201, \"max\": 0.277813533406201}}}\u001b[0m\n",
      "\u001b[34m#metrics {\"StartTime\": 1670574209.1948109, \"EndTime\": 1670574209.1948283, \"Dimensions\": {\"Algorithm\": \"Linear Learner\", \"Host\": \"algo-1\", \"Operation\": \"training\", \"epoch\": 3, \"model\": 11}, \"Metrics\": {\"train_absolute_loss_objective\": {\"sum\": 0.2802743609268425, \"count\": 1, \"min\": 0.2802743609268425, \"max\": 0.2802743609268425}}}\u001b[0m\n",
      "\u001b[34m#metrics {\"StartTime\": 1670574209.1948814, \"EndTime\": 1670574209.1948977, \"Dimensions\": {\"Algorithm\": \"Linear Learner\", \"Host\": \"algo-1\", \"Operation\": \"training\", \"epoch\": 3, \"model\": 12}, \"Metrics\": {\"train_absolute_loss_objective\": {\"sum\": 0.2776645279898583, \"count\": 1, \"min\": 0.2776645279898583, \"max\": 0.2776645279898583}}}\u001b[0m\n",
      "\u001b[34m#metrics {\"StartTime\": 1670574209.194943, \"EndTime\": 1670574209.194958, \"Dimensions\": {\"Algorithm\": \"Linear Learner\", \"Host\": \"algo-1\", \"Operation\": \"training\", \"epoch\": 3, \"model\": 13}, \"Metrics\": {\"train_absolute_loss_objective\": {\"sum\": 0.3119657693535649, \"count\": 1, \"min\": 0.3119657693535649, \"max\": 0.3119657693535649}}}\u001b[0m\n",
      "\u001b[34m#metrics {\"StartTime\": 1670574209.1950085, \"EndTime\": 1670574209.195024, \"Dimensions\": {\"Algorithm\": \"Linear Learner\", \"Host\": \"algo-1\", \"Operation\": \"training\", \"epoch\": 3, \"model\": 14}, \"Metrics\": {\"train_absolute_loss_objective\": {\"sum\": 0.27781181315816894, \"count\": 1, \"min\": 0.27781181315816894, \"max\": 0.27781181315816894}}}\u001b[0m\n",
      "\u001b[34m#metrics {\"StartTime\": 1670574209.195076, \"EndTime\": 1670574209.1950924, \"Dimensions\": {\"Algorithm\": \"Linear Learner\", \"Host\": \"algo-1\", \"Operation\": \"training\", \"epoch\": 3, \"model\": 15}, \"Metrics\": {\"train_absolute_loss_objective\": {\"sum\": 0.3112395395724904, \"count\": 1, \"min\": 0.3112395395724904, \"max\": 0.3112395395724904}}}\u001b[0m\n",
      "\u001b[34m#metrics {\"StartTime\": 1670574209.1951463, \"EndTime\": 1670574209.1951632, \"Dimensions\": {\"Algorithm\": \"Linear Learner\", \"Host\": \"algo-1\", \"Operation\": \"training\", \"epoch\": 3, \"model\": 16}, \"Metrics\": {\"train_absolute_loss_objective\": {\"sum\": 0.39421486599789596, \"count\": 1, \"min\": 0.39421486599789596, \"max\": 0.39421486599789596}}}\u001b[0m\n",
      "\u001b[34m#metrics {\"StartTime\": 1670574209.1952155, \"EndTime\": 1670574209.195233, \"Dimensions\": {\"Algorithm\": \"Linear Learner\", \"Host\": \"algo-1\", \"Operation\": \"training\", \"epoch\": 3, \"model\": 17}, \"Metrics\": {\"train_absolute_loss_objective\": {\"sum\": 0.3968081703865405, \"count\": 1, \"min\": 0.3968081703865405, \"max\": 0.3968081703865405}}}\u001b[0m\n",
      "\u001b[34m#metrics {\"StartTime\": 1670574209.1952877, \"EndTime\": 1670574209.195304, \"Dimensions\": {\"Algorithm\": \"Linear Learner\", \"Host\": \"algo-1\", \"Operation\": \"training\", \"epoch\": 3, \"model\": 18}, \"Metrics\": {\"train_absolute_loss_objective\": {\"sum\": 0.3942477617625394, \"count\": 1, \"min\": 0.3942477617625394, \"max\": 0.3942477617625394}}}\u001b[0m\n",
      "\u001b[34m#metrics {\"StartTime\": 1670574209.1953561, \"EndTime\": 1670574209.1953733, \"Dimensions\": {\"Algorithm\": \"Linear Learner\", \"Host\": \"algo-1\", \"Operation\": \"training\", \"epoch\": 3, \"model\": 19}, \"Metrics\": {\"train_absolute_loss_objective\": {\"sum\": 0.39634811029448813, \"count\": 1, \"min\": 0.39634811029448813, \"max\": 0.39634811029448813}}}\u001b[0m\n",
      "\u001b[34m#metrics {\"StartTime\": 1670574209.1954274, \"EndTime\": 1670574209.195443, \"Dimensions\": {\"Algorithm\": \"Linear Learner\", \"Host\": \"algo-1\", \"Operation\": \"training\", \"epoch\": 3, \"model\": 20}, \"Metrics\": {\"train_absolute_loss_objective\": {\"sum\": 0.3944246688047984, \"count\": 1, \"min\": 0.3944246688047984, \"max\": 0.3944246688047984}}}\u001b[0m\n",
      "\u001b[34m#metrics {\"StartTime\": 1670574209.1955109, \"EndTime\": 1670574209.1955295, \"Dimensions\": {\"Algorithm\": \"Linear Learner\", \"Host\": \"algo-1\", \"Operation\": \"training\", \"epoch\": 3, \"model\": 21}, \"Metrics\": {\"train_absolute_loss_objective\": {\"sum\": 0.43572552249788643, \"count\": 1, \"min\": 0.43572552249788643, \"max\": 0.43572552249788643}}}\u001b[0m\n",
      "\u001b[34m#metrics {\"StartTime\": 1670574209.1955845, \"EndTime\": 1670574209.1956022, \"Dimensions\": {\"Algorithm\": \"Linear Learner\", \"Host\": \"algo-1\", \"Operation\": \"training\", \"epoch\": 3, \"model\": 22}, \"Metrics\": {\"train_absolute_loss_objective\": {\"sum\": 0.39436981571629237, \"count\": 1, \"min\": 0.39436981571629237, \"max\": 0.39436981571629237}}}\u001b[0m\n",
      "\u001b[34m#metrics {\"StartTime\": 1670574209.195657, \"EndTime\": 1670574209.1956744, \"Dimensions\": {\"Algorithm\": \"Linear Learner\", \"Host\": \"algo-1\", \"Operation\": \"training\", \"epoch\": 3, \"model\": 23}, \"Metrics\": {\"train_absolute_loss_objective\": {\"sum\": 0.4351514158829653, \"count\": 1, \"min\": 0.4351514158829653, \"max\": 0.4351514158829653}}}\u001b[0m\n",
      "\u001b[34m#metrics {\"StartTime\": 1670574209.195725, \"EndTime\": 1670574209.1957405, \"Dimensions\": {\"Algorithm\": \"Linear Learner\", \"Host\": \"algo-1\", \"Operation\": \"training\", \"epoch\": 3, \"model\": 24}, \"Metrics\": {\"train_absolute_loss_objective\": {\"sum\": 0.7917130225465381, \"count\": 1, \"min\": 0.7917130225465381, \"max\": 0.7917130225465381}}}\u001b[0m\n",
      "\u001b[34m#metrics {\"StartTime\": 1670574209.1957946, \"EndTime\": 1670574209.1958058, \"Dimensions\": {\"Algorithm\": \"Linear Learner\", \"Host\": \"algo-1\", \"Operation\": \"training\", \"epoch\": 3, \"model\": 25}, \"Metrics\": {\"train_absolute_loss_objective\": {\"sum\": 0.7932452927782635, \"count\": 1, \"min\": 0.7932452927782635, \"max\": 0.7932452927782635}}}\u001b[0m\n",
      "\u001b[34m#metrics {\"StartTime\": 1670574209.1958544, \"EndTime\": 1670574209.1958702, \"Dimensions\": {\"Algorithm\": \"Linear Learner\", \"Host\": \"algo-1\", \"Operation\": \"training\", \"epoch\": 3, \"model\": 26}, \"Metrics\": {\"train_absolute_loss_objective\": {\"sum\": 0.7918130789529954, \"count\": 1, \"min\": 0.7918130789529954, \"max\": 0.7918130789529954}}}\u001b[0m\n",
      "\u001b[34m#metrics {\"StartTime\": 1670574209.19591, \"EndTime\": 1670574209.1959255, \"Dimensions\": {\"Algorithm\": \"Linear Learner\", \"Host\": \"algo-1\", \"Operation\": \"training\", \"epoch\": 3, \"model\": 27}, \"Metrics\": {\"train_absolute_loss_objective\": {\"sum\": 0.7932202465641046, \"count\": 1, \"min\": 0.7932202465641046, \"max\": 0.7932202465641046}}}\u001b[0m\n",
      "\u001b[34m#metrics {\"StartTime\": 1670574209.1959796, \"EndTime\": 1670574209.1959949, \"Dimensions\": {\"Algorithm\": \"Linear Learner\", \"Host\": \"algo-1\", \"Operation\": \"training\", \"epoch\": 3, \"model\": 28}, \"Metrics\": {\"train_absolute_loss_objective\": {\"sum\": 0.7917252580035651, \"count\": 1, \"min\": 0.7917252580035651, \"max\": 0.7917252580035651}}}\u001b[0m\n",
      "\u001b[34m#metrics {\"StartTime\": 1670574209.196049, \"EndTime\": 1670574209.1960654, \"Dimensions\": {\"Algorithm\": \"Linear Learner\", \"Host\": \"algo-1\", \"Operation\": \"training\", \"epoch\": 3, \"model\": 29}, \"Metrics\": {\"train_absolute_loss_objective\": {\"sum\": 0.8154227084010462, \"count\": 1, \"min\": 0.8154227084010462, \"max\": 0.8154227084010462}}}\u001b[0m\n",
      "\u001b[34m#metrics {\"StartTime\": 1670574209.1961284, \"EndTime\": 1670574209.1961453, \"Dimensions\": {\"Algorithm\": \"Linear Learner\", \"Host\": \"algo-1\", \"Operation\": \"training\", \"epoch\": 3, \"model\": 30}, \"Metrics\": {\"train_absolute_loss_objective\": {\"sum\": 0.7918132075036179, \"count\": 1, \"min\": 0.7918132075036179, \"max\": 0.7918132075036179}}}\u001b[0m\n",
      "\u001b[34m#metrics {\"StartTime\": 1670574209.1961944, \"EndTime\": 1670574209.1962092, \"Dimensions\": {\"Algorithm\": \"Linear Learner\", \"Host\": \"algo-1\", \"Operation\": \"training\", \"epoch\": 3, \"model\": 31}, \"Metrics\": {\"train_absolute_loss_objective\": {\"sum\": 0.8149865811832652, \"count\": 1, \"min\": 0.8149865811832652, \"max\": 0.8149865811832652}}}\u001b[0m\n",
      "\u001b[34m[12/09/2022 08:23:29 INFO 140314378520384] #quality_metric: host=algo-1, epoch=3, train absolute_loss_objective <loss>=0.2776344197684894\u001b[0m\n",
      "\u001b[34m[12/09/2022 08:23:29 INFO 140314378520384] #early_stopping_criteria_metric: host=algo-1, epoch=3, criteria=absolute_loss_objective, value=0.2776344197684894\u001b[0m\n",
      "\u001b[34m[12/09/2022 08:23:29 INFO 140314378520384] Saving model for epoch: 3\u001b[0m\n",
      "\u001b[34m[12/09/2022 08:23:29 INFO 140314378520384] Saved checkpoint to \"/tmp/tmpo1ayqzwe/mx-mod-0000.params\"\u001b[0m\n",
      "\u001b[34m[12/09/2022 08:23:29 INFO 140314378520384] #progress_metric: host=algo-1, completed 40.0 % of epochs\u001b[0m\n",
      "\u001b[34m#metrics {\"StartTime\": 1670574151.087581, \"EndTime\": 1670574209.2051656, \"Dimensions\": {\"Algorithm\": \"Linear Learner\", \"Host\": \"algo-1\", \"Operation\": \"training\", \"epoch\": 3, \"Meta\": \"training_data_iter\"}, \"Metrics\": {\"Total Records Seen\": {\"sum\": 114492.0, \"count\": 1, \"min\": 114492, \"max\": 114492}, \"Total Batches Seen\": {\"sum\": 11450.0, \"count\": 1, \"min\": 11450, \"max\": 11450}, \"Max Records Seen Between Resets\": {\"sum\": 26118.0, \"count\": 1, \"min\": 26118, \"max\": 26118}, \"Max Batches Seen Between Resets\": {\"sum\": 2612.0, \"count\": 1, \"min\": 2612, \"max\": 2612}, \"Reset Count\": {\"sum\": 6.0, \"count\": 1, \"min\": 6, \"max\": 6}, \"Number of Records Since Last Reset\": {\"sum\": 26118.0, \"count\": 1, \"min\": 26118, \"max\": 26118}, \"Number of Batches Since Last Reset\": {\"sum\": 2612.0, \"count\": 1, \"min\": 2612, \"max\": 2612}}}\u001b[0m\n",
      "\u001b[34m[12/09/2022 08:23:29 INFO 140314378520384] #throughput_metric: host=algo-1, train throughput=449.3982093586883 records/second\u001b[0m\n",
      "\u001b[34m[2022-12-09 08:24:26.362] [tensorio] [info] epoch_stats={\"data_pipeline\": \"/opt/ml/input/data/train\", \"epoch\": 11, \"duration\": 57156, \"num_examples\": 2612, \"num_bytes\": 1776024}\u001b[0m\n",
      "\u001b[34m#metrics {\"StartTime\": 1670574266.3625283, \"EndTime\": 1670574266.3626225, \"Dimensions\": {\"Algorithm\": \"Linear Learner\", \"Host\": \"algo-1\", \"Operation\": \"training\", \"epoch\": 4, \"model\": 0}, \"Metrics\": {\"train_absolute_loss_objective\": {\"sum\": 0.2776335590692007, \"count\": 1, \"min\": 0.2776335590692007, \"max\": 0.2776335590692007}}}\u001b[0m\n",
      "\u001b[34m#metrics {\"StartTime\": 1670574266.3627245, \"EndTime\": 1670574266.3627777, \"Dimensions\": {\"Algorithm\": \"Linear Learner\", \"Host\": \"algo-1\", \"Operation\": \"training\", \"epoch\": 4, \"model\": 1}, \"Metrics\": {\"train_absolute_loss_objective\": {\"sum\": 0.2797409713245452, \"count\": 1, \"min\": 0.2797409713245452, \"max\": 0.2797409713245452}}}\u001b[0m\n",
      "\u001b[34m#metrics {\"StartTime\": 1670574266.3628356, \"EndTime\": 1670574266.3628528, \"Dimensions\": {\"Algorithm\": \"Linear Learner\", \"Host\": \"algo-1\", \"Operation\": \"training\", \"epoch\": 4, \"model\": 2}, \"Metrics\": {\"train_absolute_loss_objective\": {\"sum\": 0.2777895033336699, \"count\": 1, \"min\": 0.2777895033336699, \"max\": 0.2777895033336699}}}\u001b[0m\n",
      "\u001b[34m#metrics {\"StartTime\": 1670574266.3629124, \"EndTime\": 1670574266.3629286, \"Dimensions\": {\"Algorithm\": \"Linear Learner\", \"Host\": \"algo-1\", \"Operation\": \"training\", \"epoch\": 4, \"model\": 3}, \"Metrics\": {\"train_absolute_loss_objective\": {\"sum\": 0.279741903398741, \"count\": 1, \"min\": 0.279741903398741, \"max\": 0.279741903398741}}}\u001b[0m\n",
      "\u001b[34m#metrics {\"StartTime\": 1670574266.3629794, \"EndTime\": 1670574266.3629963, \"Dimensions\": {\"Algorithm\": \"Linear Learner\", \"Host\": \"algo-1\", \"Operation\": \"training\", \"epoch\": 4, \"model\": 4}, \"Metrics\": {\"train_absolute_loss_objective\": {\"sum\": 0.2776353289002616, \"count\": 1, \"min\": 0.2776353289002616, \"max\": 0.2776353289002616}}}\u001b[0m\n",
      "\u001b[34m#metrics {\"StartTime\": 1670574266.3630493, \"EndTime\": 1670574266.3630667, \"Dimensions\": {\"Algorithm\": \"Linear Learner\", \"Host\": \"algo-1\", \"Operation\": \"training\", \"epoch\": 4, \"model\": 5}, \"Metrics\": {\"train_absolute_loss_objective\": {\"sum\": 0.3067850017995042, \"count\": 1, \"min\": 0.3067850017995042, \"max\": 0.3067850017995042}}}\u001b[0m\n",
      "\u001b[34m#metrics {\"StartTime\": 1670574266.3631186, \"EndTime\": 1670574266.3631299, \"Dimensions\": {\"Algorithm\": \"Linear Learner\", \"Host\": \"algo-1\", \"Operation\": \"training\", \"epoch\": 4, \"model\": 6}, \"Metrics\": {\"train_absolute_loss_objective\": {\"sum\": 0.2777897117010984, \"count\": 1, \"min\": 0.2777897117010984, \"max\": 0.2777897117010984}}}\u001b[0m\n",
      "\u001b[34m#metrics {\"StartTime\": 1670574266.3631797, \"EndTime\": 1670574266.3631954, \"Dimensions\": {\"Algorithm\": \"Linear Learner\", \"Host\": \"algo-1\", \"Operation\": \"training\", \"epoch\": 4, \"model\": 7}, \"Metrics\": {\"train_absolute_loss_objective\": {\"sum\": 0.3056924653893364, \"count\": 1, \"min\": 0.3056924653893364, \"max\": 0.3056924653893364}}}\u001b[0m\n",
      "\u001b[34m#metrics {\"StartTime\": 1670574266.363247, \"EndTime\": 1670574266.3632617, \"Dimensions\": {\"Algorithm\": \"Linear Learner\", \"Host\": \"algo-1\", \"Operation\": \"training\", \"epoch\": 4, \"model\": 8}, \"Metrics\": {\"train_absolute_loss_objective\": {\"sum\": 0.2776496140722204, \"count\": 1, \"min\": 0.2776496140722204, \"max\": 0.2776496140722204}}}\u001b[0m\n",
      "\u001b[34m#metrics {\"StartTime\": 1670574266.3633125, \"EndTime\": 1670574266.3633246, \"Dimensions\": {\"Algorithm\": \"Linear Learner\", \"Host\": \"algo-1\", \"Operation\": \"training\", \"epoch\": 4, \"model\": 9}, \"Metrics\": {\"train_absolute_loss_objective\": {\"sum\": 0.27976333874480014, \"count\": 1, \"min\": 0.27976333874480014, \"max\": 0.27976333874480014}}}\u001b[0m\n",
      "\u001b[34m#metrics {\"StartTime\": 1670574266.363376, \"EndTime\": 1670574266.3633914, \"Dimensions\": {\"Algorithm\": \"Linear Learner\", \"Host\": \"algo-1\", \"Operation\": \"training\", \"epoch\": 4, \"model\": 10}, \"Metrics\": {\"train_absolute_loss_objective\": {\"sum\": 0.2778137759247396, \"count\": 1, \"min\": 0.2778137759247396, \"max\": 0.2778137759247396}}}\u001b[0m\n",
      "\u001b[34m#metrics {\"StartTime\": 1670574266.363442, \"EndTime\": 1670574266.3634577, \"Dimensions\": {\"Algorithm\": \"Linear Learner\", \"Host\": \"algo-1\", \"Operation\": \"training\", \"epoch\": 4, \"model\": 11}, \"Metrics\": {\"train_absolute_loss_objective\": {\"sum\": 0.2798093251093554, \"count\": 1, \"min\": 0.2798093251093554, \"max\": 0.2798093251093554}}}\u001b[0m\n",
      "\u001b[34m#metrics {\"StartTime\": 1670574266.3634903, \"EndTime\": 1670574266.3634987, \"Dimensions\": {\"Algorithm\": \"Linear Learner\", \"Host\": \"algo-1\", \"Operation\": \"training\", \"epoch\": 4, \"model\": 12}, \"Metrics\": {\"train_absolute_loss_objective\": {\"sum\": 0.2776497208035709, \"count\": 1, \"min\": 0.2776497208035709, \"max\": 0.2776497208035709}}}\u001b[0m\n",
      "\u001b[34m#metrics {\"StartTime\": 1670574266.3635576, \"EndTime\": 1670574266.363574, \"Dimensions\": {\"Algorithm\": \"Linear Learner\", \"Host\": \"algo-1\", \"Operation\": \"training\", \"epoch\": 4, \"model\": 13}, \"Metrics\": {\"train_absolute_loss_objective\": {\"sum\": 0.306322936617246, \"count\": 1, \"min\": 0.306322936617246, \"max\": 0.306322936617246}}}\u001b[0m\n",
      "\u001b[34m#metrics {\"StartTime\": 1670574266.3636265, \"EndTime\": 1670574266.3636427, \"Dimensions\": {\"Algorithm\": \"Linear Learner\", \"Host\": \"algo-1\", \"Operation\": \"training\", \"epoch\": 4, \"model\": 14}, \"Metrics\": {\"train_absolute_loss_objective\": {\"sum\": 0.2778141722739405, \"count\": 1, \"min\": 0.2778141722739405, \"max\": 0.2778141722739405}}}\u001b[0m\n",
      "\u001b[34m#metrics {\"StartTime\": 1670574266.363707, \"EndTime\": 1670574266.3637242, \"Dimensions\": {\"Algorithm\": \"Linear Learner\", \"Host\": \"algo-1\", \"Operation\": \"training\", \"epoch\": 4, \"model\": 15}, \"Metrics\": {\"train_absolute_loss_objective\": {\"sum\": 0.30718135748819025, \"count\": 1, \"min\": 0.30718135748819025, \"max\": 0.30718135748819025}}}\u001b[0m\n",
      "\u001b[34m#metrics {\"StartTime\": 1670574266.363782, \"EndTime\": 1670574266.3637977, \"Dimensions\": {\"Algorithm\": \"Linear Learner\", \"Host\": \"algo-1\", \"Operation\": \"training\", \"epoch\": 4, \"model\": 16}, \"Metrics\": {\"train_absolute_loss_objective\": {\"sum\": 0.3941799701059152, \"count\": 1, \"min\": 0.3941799701059152, \"max\": 0.3941799701059152}}}\u001b[0m\n",
      "\u001b[34m#metrics {\"StartTime\": 1670574266.363849, \"EndTime\": 1670574266.3638654, \"Dimensions\": {\"Algorithm\": \"Linear Learner\", \"Host\": \"algo-1\", \"Operation\": \"training\", \"epoch\": 4, \"model\": 17}, \"Metrics\": {\"train_absolute_loss_objective\": {\"sum\": 0.3959577899242169, \"count\": 1, \"min\": 0.3959577899242169, \"max\": 0.3959577899242169}}}\u001b[0m\n",
      "\u001b[34m#metrics {\"StartTime\": 1670574266.3639164, \"EndTime\": 1670574266.3639338, \"Dimensions\": {\"Algorithm\": \"Linear Learner\", \"Host\": \"algo-1\", \"Operation\": \"training\", \"epoch\": 4, \"model\": 18}, \"Metrics\": {\"train_absolute_loss_objective\": {\"sum\": 0.3942091391489269, \"count\": 1, \"min\": 0.3942091391489269, \"max\": 0.3942091391489269}}}\u001b[0m\n",
      "\u001b[34m#metrics {\"StartTime\": 1670574266.3639824, \"EndTime\": 1670574266.3639977, \"Dimensions\": {\"Algorithm\": \"Linear Learner\", \"Host\": \"algo-1\", \"Operation\": \"training\", \"epoch\": 4, \"model\": 19}, \"Metrics\": {\"train_absolute_loss_objective\": {\"sum\": 0.39581095582449954, \"count\": 1, \"min\": 0.39581095582449954, \"max\": 0.39581095582449954}}}\u001b[0m\n",
      "\u001b[34m#metrics {\"StartTime\": 1670574266.3640485, \"EndTime\": 1670574266.364065, \"Dimensions\": {\"Algorithm\": \"Linear Learner\", \"Host\": \"algo-1\", \"Operation\": \"training\", \"epoch\": 4, \"model\": 20}, \"Metrics\": {\"train_absolute_loss_objective\": {\"sum\": 0.3943120551355859, \"count\": 1, \"min\": 0.3943120551355859, \"max\": 0.3943120551355859}}}\u001b[0m\n",
      "\u001b[34m#metrics {\"StartTime\": 1670574266.3641183, \"EndTime\": 1670574266.3641346, \"Dimensions\": {\"Algorithm\": \"Linear Learner\", \"Host\": \"algo-1\", \"Operation\": \"training\", \"epoch\": 4, \"model\": 21}, \"Metrics\": {\"train_absolute_loss_objective\": {\"sum\": 0.4293116998234182, \"count\": 1, \"min\": 0.4293116998234182, \"max\": 0.4293116998234182}}}\u001b[0m\n",
      "\u001b[34m#metrics {\"StartTime\": 1670574266.3641853, \"EndTime\": 1670574266.3642015, \"Dimensions\": {\"Algorithm\": \"Linear Learner\", \"Host\": \"algo-1\", \"Operation\": \"training\", \"epoch\": 4, \"model\": 22}, \"Metrics\": {\"train_absolute_loss_objective\": {\"sum\": 0.39427854627176795, \"count\": 1, \"min\": 0.39427854627176795, \"max\": 0.39427854627176795}}}\u001b[0m\n",
      "\u001b[34m#metrics {\"StartTime\": 1670574266.3642554, \"EndTime\": 1670574266.364273, \"Dimensions\": {\"Algorithm\": \"Linear Learner\", \"Host\": \"algo-1\", \"Operation\": \"training\", \"epoch\": 4, \"model\": 23}, \"Metrics\": {\"train_absolute_loss_objective\": {\"sum\": 0.4310017720578229, \"count\": 1, \"min\": 0.4310017720578229, \"max\": 0.4310017720578229}}}\u001b[0m\n",
      "\u001b[34m#metrics {\"StartTime\": 1670574266.3643286, \"EndTime\": 1670574266.3643441, \"Dimensions\": {\"Algorithm\": \"Linear Learner\", \"Host\": \"algo-1\", \"Operation\": \"training\", \"epoch\": 4, \"model\": 24}, \"Metrics\": {\"train_absolute_loss_objective\": {\"sum\": 0.7917131944343716, \"count\": 1, \"min\": 0.7917131944343716, \"max\": 0.7917131944343716}}}\u001b[0m\n",
      "\u001b[34m#metrics {\"StartTime\": 1670574266.3643944, \"EndTime\": 1670574266.3644104, \"Dimensions\": {\"Algorithm\": \"Linear Learner\", \"Host\": \"algo-1\", \"Operation\": \"training\", \"epoch\": 4, \"model\": 25}, \"Metrics\": {\"train_absolute_loss_objective\": {\"sum\": 0.7930216835358735, \"count\": 1, \"min\": 0.7930216835358735, \"max\": 0.7930216835358735}}}\u001b[0m\n",
      "\u001b[34m#metrics {\"StartTime\": 1670574266.3644607, \"EndTime\": 1670574266.3644753, \"Dimensions\": {\"Algorithm\": \"Linear Learner\", \"Host\": \"algo-1\", \"Operation\": \"training\", \"epoch\": 4, \"model\": 26}, \"Metrics\": {\"train_absolute_loss_objective\": {\"sum\": 0.7918130778755004, \"count\": 1, \"min\": 0.7918130778755004, \"max\": 0.7918130778755004}}}\u001b[0m\n",
      "\u001b[34m#metrics {\"StartTime\": 1670574266.3645365, \"EndTime\": 1670574266.364552, \"Dimensions\": {\"Algorithm\": \"Linear Learner\", \"Host\": \"algo-1\", \"Operation\": \"training\", \"epoch\": 4, \"model\": 27}, \"Metrics\": {\"train_absolute_loss_objective\": {\"sum\": 0.7929969080012221, \"count\": 1, \"min\": 0.7929969080012221, \"max\": 0.7929969080012221}}}\u001b[0m\n",
      "\u001b[34m#metrics {\"StartTime\": 1670574266.3646026, \"EndTime\": 1670574266.3646183, \"Dimensions\": {\"Algorithm\": \"Linear Learner\", \"Host\": \"algo-1\", \"Operation\": \"training\", \"epoch\": 4, \"model\": 28}, \"Metrics\": {\"train_absolute_loss_objective\": {\"sum\": 0.7917159989253628, \"count\": 1, \"min\": 0.7917159989253628, \"max\": 0.7917159989253628}}}\u001b[0m\n",
      "\u001b[34m#metrics {\"StartTime\": 1670574266.3646703, \"EndTime\": 1670574266.364688, \"Dimensions\": {\"Algorithm\": \"Linear Learner\", \"Host\": \"algo-1\", \"Operation\": \"training\", \"epoch\": 4, \"model\": 29}, \"Metrics\": {\"train_absolute_loss_objective\": {\"sum\": 0.8110551727452711, \"count\": 1, \"min\": 0.8110551727452711, \"max\": 0.8110551727452711}}}\u001b[0m\n",
      "\u001b[34m#metrics {\"StartTime\": 1670574266.3647366, \"EndTime\": 1670574266.3647473, \"Dimensions\": {\"Algorithm\": \"Linear Learner\", \"Host\": \"algo-1\", \"Operation\": \"training\", \"epoch\": 4, \"model\": 30}, \"Metrics\": {\"train_absolute_loss_objective\": {\"sum\": 0.7918130864771972, \"count\": 1, \"min\": 0.7918130864771972, \"max\": 0.7918130864771972}}}\u001b[0m\n",
      "\u001b[34m#metrics {\"StartTime\": 1670574266.364794, \"EndTime\": 1670574266.3648095, \"Dimensions\": {\"Algorithm\": \"Linear Learner\", \"Host\": \"algo-1\", \"Operation\": \"training\", \"epoch\": 4, \"model\": 31}, \"Metrics\": {\"train_absolute_loss_objective\": {\"sum\": 0.81085174162239, \"count\": 1, \"min\": 0.81085174162239, \"max\": 0.81085174162239}}}\u001b[0m\n",
      "\u001b[34m[12/09/2022 08:24:26 INFO 140314378520384] #quality_metric: host=algo-1, epoch=4, train absolute_loss_objective <loss>=0.2776335590692007\u001b[0m\n",
      "\u001b[34m[12/09/2022 08:24:26 INFO 140314378520384] #early_stopping_criteria_metric: host=algo-1, epoch=4, criteria=absolute_loss_objective, value=0.2776335590692007\u001b[0m\n",
      "\u001b[34m[12/09/2022 08:24:26 INFO 140314378520384] Saving model for epoch: 4\u001b[0m\n",
      "\u001b[34m[12/09/2022 08:24:26 INFO 140314378520384] Saved checkpoint to \"/tmp/tmpska5l105/mx-mod-0000.params\"\u001b[0m\n",
      "\u001b[34m[12/09/2022 08:24:26 INFO 140314378520384] #progress_metric: host=algo-1, completed 50.0 % of epochs\u001b[0m\n",
      "\u001b[34m#metrics {\"StartTime\": 1670574209.2054677, \"EndTime\": 1670574266.3735092, \"Dimensions\": {\"Algorithm\": \"Linear Learner\", \"Host\": \"algo-1\", \"Operation\": \"training\", \"epoch\": 4, \"Meta\": \"training_data_iter\"}, \"Metrics\": {\"Total Records Seen\": {\"sum\": 140610.0, \"count\": 1, \"min\": 140610, \"max\": 140610}, \"Total Batches Seen\": {\"sum\": 14062.0, \"count\": 1, \"min\": 14062, \"max\": 14062}, \"Max Records Seen Between Resets\": {\"sum\": 26118.0, \"count\": 1, \"min\": 26118, \"max\": 26118}, \"Max Batches Seen Between Resets\": {\"sum\": 2612.0, \"count\": 1, \"min\": 2612, \"max\": 2612}, \"Reset Count\": {\"sum\": 7.0, \"count\": 1, \"min\": 7, \"max\": 7}, \"Number of Records Since Last Reset\": {\"sum\": 26118.0, \"count\": 1, \"min\": 26118, \"max\": 26118}, \"Number of Batches Since Last Reset\": {\"sum\": 2612.0, \"count\": 1, \"min\": 2612, \"max\": 2612}}}\u001b[0m\n",
      "\u001b[34m[12/09/2022 08:24:26 INFO 140314378520384] #throughput_metric: host=algo-1, train throughput=456.8623680684181 records/second\u001b[0m\n",
      "\n",
      "2022-12-09 08:25:31 Uploading - Uploading generated training model\u001b[34m[2022-12-09 08:25:23.506] [tensorio] [info] epoch_stats={\"data_pipeline\": \"/opt/ml/input/data/train\", \"epoch\": 13, \"duration\": 57132, \"num_examples\": 2612, \"num_bytes\": 1776024}\u001b[0m\n",
      "\u001b[34m#metrics {\"StartTime\": 1670574323.5065653, \"EndTime\": 1670574323.5066543, \"Dimensions\": {\"Algorithm\": \"Linear Learner\", \"Host\": \"algo-1\", \"Operation\": \"training\", \"epoch\": 5, \"model\": 0}, \"Metrics\": {\"train_absolute_loss_objective\": {\"sum\": 0.2776333384429847, \"count\": 1, \"min\": 0.2776333384429847, \"max\": 0.2776333384429847}}}\u001b[0m\n",
      "\u001b[34m#metrics {\"StartTime\": 1670574323.5067685, \"EndTime\": 1670574323.5067854, \"Dimensions\": {\"Algorithm\": \"Linear Learner\", \"Host\": \"algo-1\", \"Operation\": \"training\", \"epoch\": 5, \"model\": 1}, \"Metrics\": {\"train_absolute_loss_objective\": {\"sum\": 0.27932600228551796, \"count\": 1, \"min\": 0.27932600228551796, \"max\": 0.27932600228551796}}}\u001b[0m\n",
      "\u001b[34m#metrics {\"StartTime\": 1670574323.506824, \"EndTime\": 1670574323.5068388, \"Dimensions\": {\"Algorithm\": \"Linear Learner\", \"Host\": \"algo-1\", \"Operation\": \"training\", \"epoch\": 5, \"model\": 2}, \"Metrics\": {\"train_absolute_loss_objective\": {\"sum\": 0.2777910672855852, \"count\": 1, \"min\": 0.2777910672855852, \"max\": 0.2777910672855852}}}\u001b[0m\n",
      "\u001b[34m#metrics {\"StartTime\": 1670574323.5068896, \"EndTime\": 1670574323.5069041, \"Dimensions\": {\"Algorithm\": \"Linear Learner\", \"Host\": \"algo-1\", \"Operation\": \"training\", \"epoch\": 5, \"model\": 3}, \"Metrics\": {\"train_absolute_loss_objective\": {\"sum\": 0.27925769560458513, \"count\": 1, \"min\": 0.27925769560458513, \"max\": 0.27925769560458513}}}\u001b[0m\n",
      "\u001b[34m#metrics {\"StartTime\": 1670574323.5069568, \"EndTime\": 1670574323.506972, \"Dimensions\": {\"Algorithm\": \"Linear Learner\", \"Host\": \"algo-1\", \"Operation\": \"training\", \"epoch\": 5, \"model\": 4}, \"Metrics\": {\"train_absolute_loss_objective\": {\"sum\": 0.27763462888925117, \"count\": 1, \"min\": 0.27763462888925117, \"max\": 0.27763462888925117}}}\u001b[0m\n",
      "\u001b[34m#metrics {\"StartTime\": 1670574323.5070238, \"EndTime\": 1670574323.5070405, \"Dimensions\": {\"Algorithm\": \"Linear Learner\", \"Host\": \"algo-1\", \"Operation\": \"training\", \"epoch\": 5, \"model\": 5}, \"Metrics\": {\"train_absolute_loss_objective\": {\"sum\": 0.29956992947247146, \"count\": 1, \"min\": 0.29956992947247146, \"max\": 0.29956992947247146}}}\u001b[0m\n",
      "\u001b[34m#metrics {\"StartTime\": 1670574323.5070753, \"EndTime\": 1670574323.5070877, \"Dimensions\": {\"Algorithm\": \"Linear Learner\", \"Host\": \"algo-1\", \"Operation\": \"training\", \"epoch\": 5, \"model\": 6}, \"Metrics\": {\"train_absolute_loss_objective\": {\"sum\": 0.2777893191139984, \"count\": 1, \"min\": 0.2777893191139984, \"max\": 0.2777893191139984}}}\u001b[0m\n",
      "\u001b[34m#metrics {\"StartTime\": 1670574323.5071368, \"EndTime\": 1670574323.5071535, \"Dimensions\": {\"Algorithm\": \"Linear Learner\", \"Host\": \"algo-1\", \"Operation\": \"training\", \"epoch\": 5, \"model\": 7}, \"Metrics\": {\"train_absolute_loss_objective\": {\"sum\": 0.3015828385429791, \"count\": 1, \"min\": 0.3015828385429791, \"max\": 0.3015828385429791}}}\u001b[0m\n",
      "\u001b[34m#metrics {\"StartTime\": 1670574323.5072055, \"EndTime\": 1670574323.5072212, \"Dimensions\": {\"Algorithm\": \"Linear Learner\", \"Host\": \"algo-1\", \"Operation\": \"training\", \"epoch\": 5, \"model\": 8}, \"Metrics\": {\"train_absolute_loss_objective\": {\"sum\": 0.2776505995965561, \"count\": 1, \"min\": 0.2776505995965561, \"max\": 0.2776505995965561}}}\u001b[0m\n",
      "\u001b[34m#metrics {\"StartTime\": 1670574323.507281, \"EndTime\": 1670574323.5072987, \"Dimensions\": {\"Algorithm\": \"Linear Learner\", \"Host\": \"algo-1\", \"Operation\": \"training\", \"epoch\": 5, \"model\": 9}, \"Metrics\": {\"train_absolute_loss_objective\": {\"sum\": 0.2793105581125415, \"count\": 1, \"min\": 0.2793105581125415, \"max\": 0.2793105581125415}}}\u001b[0m\n",
      "\u001b[34m#metrics {\"StartTime\": 1670574323.5073652, \"EndTime\": 1670574323.5073817, \"Dimensions\": {\"Algorithm\": \"Linear Learner\", \"Host\": \"algo-1\", \"Operation\": \"training\", \"epoch\": 5, \"model\": 10}, \"Metrics\": {\"train_absolute_loss_objective\": {\"sum\": 0.27781412191931565, \"count\": 1, \"min\": 0.27781412191931565, \"max\": 0.27781412191931565}}}\u001b[0m\n",
      "\u001b[34m#metrics {\"StartTime\": 1670574323.5074506, \"EndTime\": 1670574323.5074682, \"Dimensions\": {\"Algorithm\": \"Linear Learner\", \"Host\": \"algo-1\", \"Operation\": \"training\", \"epoch\": 5, \"model\": 11}, \"Metrics\": {\"train_absolute_loss_objective\": {\"sum\": 0.2793041603175309, \"count\": 1, \"min\": 0.2793041603175309, \"max\": 0.2793041603175309}}}\u001b[0m\n",
      "\u001b[34m#metrics {\"StartTime\": 1670574323.5075371, \"EndTime\": 1670574323.5075545, \"Dimensions\": {\"Algorithm\": \"Linear Learner\", \"Host\": \"algo-1\", \"Operation\": \"training\", \"epoch\": 5, \"model\": 12}, \"Metrics\": {\"train_absolute_loss_objective\": {\"sum\": 0.2776504972664984, \"count\": 1, \"min\": 0.2776504972664984, \"max\": 0.2776504972664984}}}\u001b[0m\n",
      "\u001b[34m#metrics {\"StartTime\": 1670574323.5076222, \"EndTime\": 1670574323.5076394, \"Dimensions\": {\"Algorithm\": \"Linear Learner\", \"Host\": \"algo-1\", \"Operation\": \"training\", \"epoch\": 5, \"model\": 13}, \"Metrics\": {\"train_absolute_loss_objective\": {\"sum\": 0.30085074723063643, \"count\": 1, \"min\": 0.30085074723063643, \"max\": 0.30085074723063643}}}\u001b[0m\n",
      "\u001b[34m#metrics {\"StartTime\": 1670574323.5077055, \"EndTime\": 1670574323.5077238, \"Dimensions\": {\"Algorithm\": \"Linear Learner\", \"Host\": \"algo-1\", \"Operation\": \"training\", \"epoch\": 5, \"model\": 14}, \"Metrics\": {\"train_absolute_loss_objective\": {\"sum\": 0.27781768093525516, \"count\": 1, \"min\": 0.27781768093525516, \"max\": 0.27781768093525516}}}\u001b[0m\n",
      "\u001b[34m#metrics {\"StartTime\": 1670574323.5077813, \"EndTime\": 1670574323.5077987, \"Dimensions\": {\"Algorithm\": \"Linear Learner\", \"Host\": \"algo-1\", \"Operation\": \"training\", \"epoch\": 5, \"model\": 15}, \"Metrics\": {\"train_absolute_loss_objective\": {\"sum\": 0.3010980630824959, \"count\": 1, \"min\": 0.3010980630824959, \"max\": 0.3010980630824959}}}\u001b[0m\n",
      "\u001b[34m#metrics {\"StartTime\": 1670574323.5078542, \"EndTime\": 1670574323.5078704, \"Dimensions\": {\"Algorithm\": \"Linear Learner\", \"Host\": \"algo-1\", \"Operation\": \"training\", \"epoch\": 5, \"model\": 16}, \"Metrics\": {\"train_absolute_loss_objective\": {\"sum\": 0.3941527783939182, \"count\": 1, \"min\": 0.3941527783939182, \"max\": 0.3941527783939182}}}\u001b[0m\n",
      "\u001b[34m#metrics {\"StartTime\": 1670574323.5079384, \"EndTime\": 1670574323.5079567, \"Dimensions\": {\"Algorithm\": \"Linear Learner\", \"Host\": \"algo-1\", \"Operation\": \"training\", \"epoch\": 5, \"model\": 17}, \"Metrics\": {\"train_absolute_loss_objective\": {\"sum\": 0.39562860810405126, \"count\": 1, \"min\": 0.39562860810405126, \"max\": 0.39562860810405126}}}\u001b[0m\n",
      "\u001b[34m#metrics {\"StartTime\": 1670574323.5080154, \"EndTime\": 1670574323.5080326, \"Dimensions\": {\"Algorithm\": \"Linear Learner\", \"Host\": \"algo-1\", \"Operation\": \"training\", \"epoch\": 5, \"model\": 18}, \"Metrics\": {\"train_absolute_loss_objective\": {\"sum\": 0.3942424042706104, \"count\": 1, \"min\": 0.3942424042706104, \"max\": 0.3942424042706104}}}\u001b[0m\n",
      "\u001b[34m#metrics {\"StartTime\": 1670574323.5080996, \"EndTime\": 1670574323.5081174, \"Dimensions\": {\"Algorithm\": \"Linear Learner\", \"Host\": \"algo-1\", \"Operation\": \"training\", \"epoch\": 5, \"model\": 19}, \"Metrics\": {\"train_absolute_loss_objective\": {\"sum\": 0.39547252475599, \"count\": 1, \"min\": 0.39547252475599, \"max\": 0.39547252475599}}}\u001b[0m\n",
      "\u001b[34m#metrics {\"StartTime\": 1670574323.5081716, \"EndTime\": 1670574323.5081885, \"Dimensions\": {\"Algorithm\": \"Linear Learner\", \"Host\": \"algo-1\", \"Operation\": \"training\", \"epoch\": 5, \"model\": 20}, \"Metrics\": {\"train_absolute_loss_objective\": {\"sum\": 0.3942567228220834, \"count\": 1, \"min\": 0.3942567228220834, \"max\": 0.3942567228220834}}}\u001b[0m\n",
      "\u001b[34m#metrics {\"StartTime\": 1670574323.5082414, \"EndTime\": 1670574323.5082586, \"Dimensions\": {\"Algorithm\": \"Linear Learner\", \"Host\": \"algo-1\", \"Operation\": \"training\", \"epoch\": 5, \"model\": 21}, \"Metrics\": {\"train_absolute_loss_objective\": {\"sum\": 0.4259764588641646, \"count\": 1, \"min\": 0.4259764588641646, \"max\": 0.4259764588641646}}}\u001b[0m\n",
      "\u001b[34m#metrics {\"StartTime\": 1670574323.5083225, \"EndTime\": 1670574323.5083401, \"Dimensions\": {\"Algorithm\": \"Linear Learner\", \"Host\": \"algo-1\", \"Operation\": \"training\", \"epoch\": 5, \"model\": 22}, \"Metrics\": {\"train_absolute_loss_objective\": {\"sum\": 0.39424286945164777, \"count\": 1, \"min\": 0.39424286945164777, \"max\": 0.39424286945164777}}}\u001b[0m\n",
      "\u001b[34m#metrics {\"StartTime\": 1670574323.5084076, \"EndTime\": 1670574323.5084252, \"Dimensions\": {\"Algorithm\": \"Linear Learner\", \"Host\": \"algo-1\", \"Operation\": \"training\", \"epoch\": 5, \"model\": 23}, \"Metrics\": {\"train_absolute_loss_objective\": {\"sum\": 0.42543580979964873, \"count\": 1, \"min\": 0.42543580979964873, \"max\": 0.42543580979964873}}}\u001b[0m\n",
      "\u001b[34m#metrics {\"StartTime\": 1670574323.5084956, \"EndTime\": 1670574323.5085137, \"Dimensions\": {\"Algorithm\": \"Linear Learner\", \"Host\": \"algo-1\", \"Operation\": \"training\", \"epoch\": 5, \"model\": 24}, \"Metrics\": {\"train_absolute_loss_objective\": {\"sum\": 0.7917131735054025, \"count\": 1, \"min\": 0.7917131735054025, \"max\": 0.7917131735054025}}}\u001b[0m\n",
      "\u001b[34m#metrics {\"StartTime\": 1670574323.5085683, \"EndTime\": 1670574323.5085864, \"Dimensions\": {\"Algorithm\": \"Linear Learner\", \"Host\": \"algo-1\", \"Operation\": \"training\", \"epoch\": 5, \"model\": 25}, \"Metrics\": {\"train_absolute_loss_objective\": {\"sum\": 0.7927660368539875, \"count\": 1, \"min\": 0.7927660368539875, \"max\": 0.7927660368539875}}}\u001b[0m\n",
      "\u001b[34m#metrics {\"StartTime\": 1670574323.5086405, \"EndTime\": 1670574323.5086577, \"Dimensions\": {\"Algorithm\": \"Linear Learner\", \"Host\": \"algo-1\", \"Operation\": \"training\", \"epoch\": 5, \"model\": 26}, \"Metrics\": {\"train_absolute_loss_objective\": {\"sum\": 0.791813077281965, \"count\": 1, \"min\": 0.791813077281965, \"max\": 0.791813077281965}}}\u001b[0m\n",
      "\u001b[34m#metrics {\"StartTime\": 1670574323.5087097, \"EndTime\": 1670574323.5087264, \"Dimensions\": {\"Algorithm\": \"Linear Learner\", \"Host\": \"algo-1\", \"Operation\": \"training\", \"epoch\": 5, \"model\": 27}, \"Metrics\": {\"train_absolute_loss_objective\": {\"sum\": 0.7927597097764295, \"count\": 1, \"min\": 0.7927597097764295, \"max\": 0.7927597097764295}}}\u001b[0m\n",
      "\u001b[34m#metrics {\"StartTime\": 1670574323.5087948, \"EndTime\": 1670574323.508813, \"Dimensions\": {\"Algorithm\": \"Linear Learner\", \"Host\": \"algo-1\", \"Operation\": \"training\", \"epoch\": 5, \"model\": 28}, \"Metrics\": {\"train_absolute_loss_objective\": {\"sum\": 0.7917144202126802, \"count\": 1, \"min\": 0.7917144202126802, \"max\": 0.7917144202126802}}}\u001b[0m\n",
      "\u001b[34m#metrics {\"StartTime\": 1670574323.5088668, \"EndTime\": 1670574323.5088844, \"Dimensions\": {\"Algorithm\": \"Linear Learner\", \"Host\": \"algo-1\", \"Operation\": \"training\", \"epoch\": 5, \"model\": 29}, \"Metrics\": {\"train_absolute_loss_objective\": {\"sum\": 0.8064895857526443, \"count\": 1, \"min\": 0.8064895857526443, \"max\": 0.8064895857526443}}}\u001b[0m\n",
      "\u001b[34m#metrics {\"StartTime\": 1670574323.50894, \"EndTime\": 1670574323.5089564, \"Dimensions\": {\"Algorithm\": \"Linear Learner\", \"Host\": \"algo-1\", \"Operation\": \"training\", \"epoch\": 5, \"model\": 30}, \"Metrics\": {\"train_absolute_loss_objective\": {\"sum\": 0.7918130784964297, \"count\": 1, \"min\": 0.7918130784964297, \"max\": 0.7918130784964297}}}\u001b[0m\n",
      "\u001b[34m#metrics {\"StartTime\": 1670574323.5090108, \"EndTime\": 1670574323.5090284, \"Dimensions\": {\"Algorithm\": \"Linear Learner\", \"Host\": \"algo-1\", \"Operation\": \"training\", \"epoch\": 5, \"model\": 31}, \"Metrics\": {\"train_absolute_loss_objective\": {\"sum\": 0.8068014543114015, \"count\": 1, \"min\": 0.8068014543114015, \"max\": 0.8068014543114015}}}\u001b[0m\n",
      "\u001b[34m[12/09/2022 08:25:23 INFO 140314378520384] #quality_metric: host=algo-1, epoch=5, train absolute_loss_objective <loss>=0.2776333384429847\u001b[0m\n",
      "\u001b[34m[12/09/2022 08:25:23 INFO 140314378520384] #early_stopping_criteria_metric: host=algo-1, epoch=5, criteria=absolute_loss_objective, value=0.2776333384429847\u001b[0m\n",
      "\u001b[34m[12/09/2022 08:25:23 INFO 140314378520384] Saving model for epoch: 5\u001b[0m\n",
      "\u001b[34m[12/09/2022 08:25:23 INFO 140314378520384] Saved checkpoint to \"/tmp/tmp4c6kbsdm/mx-mod-0000.params\"\u001b[0m\n",
      "\u001b[34m[12/09/2022 08:25:23 INFO 140314378520384] Early stop condition met. Stopping training.\u001b[0m\n",
      "\u001b[34m[12/09/2022 08:25:23 INFO 140314378520384] #progress_metric: host=algo-1, completed 100 % epochs\u001b[0m\n",
      "\u001b[34m#metrics {\"StartTime\": 1670574266.3738458, \"EndTime\": 1670574323.5177748, \"Dimensions\": {\"Algorithm\": \"Linear Learner\", \"Host\": \"algo-1\", \"Operation\": \"training\", \"epoch\": 5, \"Meta\": \"training_data_iter\"}, \"Metrics\": {\"Total Records Seen\": {\"sum\": 166728.0, \"count\": 1, \"min\": 166728, \"max\": 166728}, \"Total Batches Seen\": {\"sum\": 16674.0, \"count\": 1, \"min\": 16674, \"max\": 16674}, \"Max Records Seen Between Resets\": {\"sum\": 26118.0, \"count\": 1, \"min\": 26118, \"max\": 26118}, \"Max Batches Seen Between Resets\": {\"sum\": 2612.0, \"count\": 1, \"min\": 2612, \"max\": 2612}, \"Reset Count\": {\"sum\": 8.0, \"count\": 1, \"min\": 8, \"max\": 8}, \"Number of Records Since Last Reset\": {\"sum\": 26118.0, \"count\": 1, \"min\": 26118, \"max\": 26118}, \"Number of Batches Since Last Reset\": {\"sum\": 2612.0, \"count\": 1, \"min\": 2612, \"max\": 2612}}}\u001b[0m\n",
      "\u001b[34m[12/09/2022 08:25:23 INFO 140314378520384] #throughput_metric: host=algo-1, train throughput=457.0552939999016 records/second\u001b[0m\n",
      "\u001b[34m[12/09/2022 08:25:23 WARNING 140314378520384] wait_for_all_workers will not sync workers since the kv store is not running distributed\u001b[0m\n",
      "\u001b[34m[12/09/2022 08:25:23 WARNING 140314378520384] wait_for_all_workers will not sync workers since the kv store is not running distributed\u001b[0m\n",
      "\u001b[34m[2022-12-09 08:25:23.519] [tensorio] [info] epoch_stats={\"data_pipeline\": \"/opt/ml/input/data/train\", \"epoch\": 15, \"duration\": 0, \"num_examples\": 1, \"num_bytes\": 680}\u001b[0m\n",
      "\u001b[34m[2022-12-09 08:25:28.218] [tensorio] [info] epoch_stats={\"data_pipeline\": \"/opt/ml/input/data/train\", \"epoch\": 17, \"duration\": 4695, \"num_examples\": 2612, \"num_bytes\": 1776024}\u001b[0m\n",
      "\u001b[34m[12/09/2022 08:25:28 INFO 140314378520384] #train_score (algo-1) : ('absolute_loss_objective', 1717.7415273350755)\u001b[0m\n",
      "\u001b[34m[12/09/2022 08:25:28 INFO 140314378520384] #train_score (algo-1) : ('mse', 4129432.4088942492)\u001b[0m\n",
      "\u001b[34m[12/09/2022 08:25:28 INFO 140314378520384] #train_score (algo-1) : ('absolute_loss', 1717.7415273350755)\u001b[0m\n",
      "\u001b[34m[12/09/2022 08:25:28 INFO 140314378520384] #train_score (algo-1) : ('rmse', 2032.1004918296362)\u001b[0m\n",
      "\u001b[34m[12/09/2022 08:25:28 INFO 140314378520384] #train_score (algo-1) : ('r2', 0.890590071670081)\u001b[0m\n",
      "\u001b[34m[12/09/2022 08:25:28 INFO 140314378520384] #train_score (algo-1) : ('mae', 1717.741527578113)\u001b[0m\n",
      "\u001b[34m[12/09/2022 08:25:28 INFO 140314378520384] #quality_metric: host=algo-1, train absolute_loss_objective <loss>=1717.7415273350755\u001b[0m\n",
      "\u001b[34m[12/09/2022 08:25:28 INFO 140314378520384] #quality_metric: host=algo-1, train mse <loss>=4129432.4088942492\u001b[0m\n",
      "\u001b[34m[12/09/2022 08:25:28 INFO 140314378520384] #quality_metric: host=algo-1, train absolute_loss <loss>=1717.7415273350755\u001b[0m\n",
      "\u001b[34m[12/09/2022 08:25:28 INFO 140314378520384] #quality_metric: host=algo-1, train rmse <loss>=2032.1004918296362\u001b[0m\n",
      "\u001b[34m[12/09/2022 08:25:28 INFO 140314378520384] #quality_metric: host=algo-1, train r2 <loss>=0.890590071670081\u001b[0m\n",
      "\u001b[34m[12/09/2022 08:25:28 INFO 140314378520384] #quality_metric: host=algo-1, train mae <loss>=1717.741527578113\u001b[0m\n",
      "\u001b[34m[12/09/2022 08:25:28 INFO 140314378520384] Best model found for hyperparameters: {\"optimizer\": \"adam\", \"learning_rate\": 0.005, \"l1\": 0.0, \"wd\": 0.0001, \"lr_scheduler_step\": 10, \"lr_scheduler_factor\": 0.99, \"lr_scheduler_minimum_lr\": 1e-05}\u001b[0m\n",
      "\u001b[34m[12/09/2022 08:25:28 INFO 140314378520384] Saved checkpoint to \"/tmp/tmptgpmzull/mx-mod-0000.params\"\u001b[0m\n",
      "\u001b[34m[12/09/2022 08:25:28 INFO 140314378520384] Test data is not provided.\u001b[0m\n",
      "\u001b[34m#metrics {\"StartTime\": 1670573970.3253276, \"EndTime\": 1670574328.2272773, \"Dimensions\": {\"Algorithm\": \"Linear Learner\", \"Host\": \"algo-1\", \"Operation\": \"training\"}, \"Metrics\": {\"initialize.time\": {\"sum\": 7211.531162261963, \"count\": 1, \"min\": 7211.531162261963, \"max\": 7211.531162261963}, \"epochs\": {\"sum\": 10.0, \"count\": 1, \"min\": 10, \"max\": 10}, \"check_early_stopping.time\": {\"sum\": 3.2494068145751953, \"count\": 6, \"min\": 0.21457672119140625, \"max\": 1.249074935913086}, \"update.time\": {\"sum\": 345958.3156108856, \"count\": 6, \"min\": 57140.75064659119, \"max\": 58374.07922744751}, \"finalize.time\": {\"sum\": 4703.216791152954, \"count\": 1, \"min\": 4703.216791152954, \"max\": 4703.216791152954}, \"setuptime\": {\"sum\": 3.0112266540527344, \"count\": 1, \"min\": 3.0112266540527344, \"max\": 3.0112266540527344}, \"totaltime\": {\"sum\": 358030.36427497864, \"count\": 1, \"min\": 358030.36427497864, \"max\": 358030.36427497864}}}\u001b[0m\n",
      "\n",
      "2022-12-09 08:26:00 Completed - Training job completed\n",
      "ProfilerReport-1670573679: NoIssuesFound\n",
      "Training seconds: 459\n",
      "Billable seconds: 459\n"
     ]
    }
   ],
   "source": [
    "# We have pass in the container, the type of instance that we would like to use for training \n",
    "# output path and sagemaker session into the Estimator. \n",
    "# We can also specify how many instances we would like to use for training\n",
    "\n",
    "linear = sagemaker.estimator.Estimator(container,\n",
    "                                       role, \n",
    "                                       instance_count = 1, \n",
    "                                       instance_type = 'ml.m4.xlarge',\n",
    "                                       output_path = output_location,\n",
    "                                       sagemaker_session = sagemaker_session)\n",
    "\n",
    "\n",
    "# We can tune parameters like the number of features that we are passing in, type of predictor like 'regressor' or 'classifier', mini batch size, epochs\n",
    "# Train 32 different versions of the model and will get the best out of them (built-in parameters optimization!)\n",
    "\n",
    "linear.set_hyperparameters(feature_dim = 6,\n",
    "                           predictor_type = 'regressor',\n",
    "                           mini_batch_size = 10,\n",
    "                           epochs = 10,\n",
    "                           num_models = 32,\n",
    "                           loss = 'absolute_loss')\n",
    "\n",
    "# Now we are ready to pass in the training data from S3 to train the linear learner model\n",
    "\n",
    "linear.fit({'train': s3_train_data})\n",
    "\n",
    "# Let's see the progress using cloudwatch logs"
   ]
  },
  {
   "cell_type": "code",
   "execution_count": 46,
   "id": "e6923c8b",
   "metadata": {},
   "outputs": [
    {
     "name": "stdout",
     "output_type": "stream",
     "text": [
      "--------!"
     ]
    }
   ],
   "source": [
    "from sagemaker.deserializers import JSONDeserializer\n",
    "from sagemaker.serializers import CSVSerializer\n",
    "\n",
    "\n",
    "linear_regressor = linear.deploy(initial_instance_count = 1,\n",
    "                                 instance_type = 'ml.m4.xlarge',\n",
    "                                 serializer=CSVSerializer(),\n",
    "                                 deserializer=JSONDeserializer())"
   ]
  },
  {
   "cell_type": "code",
   "execution_count": 47,
   "id": "0ea7f4c9",
   "metadata": {},
   "outputs": [],
   "source": [
    "# making prediction on the test data\n",
    "\n",
    "result = linear_regressor.predict(X_test)"
   ]
  },
  {
   "cell_type": "code",
   "execution_count": 48,
   "id": "85955dce",
   "metadata": {},
   "outputs": [],
   "source": [
    "# Since the result is in json format, we access the scores by iterating through the scores in the predictions\n",
    "\n",
    "predictions = np.array([r['score'] for r in result['predictions']])"
   ]
  },
  {
   "cell_type": "code",
   "execution_count": 49,
   "id": "5fc3ed41",
   "metadata": {},
   "outputs": [
    {
     "data": {
      "text/plain": [
       "array([21012.50585938, 37014.21484375, 18695.27539062, ...,\n",
       "       34655.66796875, 20609.55859375, 20244.55859375])"
      ]
     },
     "execution_count": 49,
     "metadata": {},
     "output_type": "execute_result"
    }
   ],
   "source": [
    "predictions"
   ]
  },
  {
   "cell_type": "code",
   "execution_count": 50,
   "id": "107c50a9",
   "metadata": {},
   "outputs": [
    {
     "data": {
      "text/plain": [
       "(6530,)"
      ]
     },
     "execution_count": 50,
     "metadata": {},
     "output_type": "execute_result"
    }
   ],
   "source": [
    "predictions.shape"
   ]
  },
  {
   "cell_type": "code",
   "execution_count": 51,
   "id": "6a78e120",
   "metadata": {},
   "outputs": [
    {
     "data": {
      "text/plain": [
       "(6530,)"
      ]
     },
     "execution_count": 51,
     "metadata": {},
     "output_type": "execute_result"
    }
   ],
   "source": [
    "y_test.shape"
   ]
  },
  {
   "cell_type": "code",
   "execution_count": 53,
   "id": "7eafaa5b",
   "metadata": {},
   "outputs": [
    {
     "data": {
      "text/plain": [
       "<matplotlib.collections.PathCollection at 0x7fe3e3cf42e0>"
      ]
     },
     "execution_count": 53,
     "metadata": {},
     "output_type": "execute_result"
    },
    {
     "data": {
      "image/png": "[encoded data removed]",
      "text/plain": [
       "<Figure size 864x432 with 1 Axes>"
      ]
     },
     "metadata": {
      "needs_background": "light"
     },
     "output_type": "display_data"
    }
   ],
   "source": [
    "import matplotlib.pyplot as plt\n",
    "# Visualize how accurate predictions are relative to y_test\n",
    "plt.figure(figsize = (12, 6))\n",
    "plt.scatter(y_test, predictions)"
   ]
  },
  {
   "cell_type": "code",
   "execution_count": null,
   "id": "26d29a03",
   "metadata": {},
   "outputs": [],
   "source": []
  }
 ],
 "metadata": {
  "kernelspec": {
   "display_name": "conda_python3",
   "language": "python",
   "name": "conda_python3"
  },
  "language_info": {
   "codemirror_mode": {
    "name": "ipython",
    "version": 3
   },
   "file_extension": ".py",
   "mimetype": "text/x-python",
   "name": "python",
   "nbconvert_exporter": "python",
   "pygments_lexer": "ipython3",
   "version": "3.8.12"
  }
 },
 "nbformat": 4,
 "nbformat_minor": 5
}
